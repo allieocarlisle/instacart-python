{
 "cells": [
  {
   "cell_type": "markdown",
   "id": "dabfe425",
   "metadata": {},
   "source": [
    "#01. Importing Libraries"
   ]
  },
  {
   "cell_type": "code",
   "execution_count": 1,
   "id": "4db7e0f4",
   "metadata": {},
   "outputs": [],
   "source": [
    "# Import libraries\n",
    "import pandas as pd\n",
    "import numpy as np\n",
    "import os"
   ]
  },
  {
   "cell_type": "markdown",
   "id": "49bf2b88",
   "metadata": {},
   "source": [
    "#02. Testing with Data Types"
   ]
  },
  {
   "cell_type": "code",
   "execution_count": 25,
   "id": "ae7507b1",
   "metadata": {},
   "outputs": [
    {
     "data": {
      "text/plain": [
       "100"
      ]
     },
     "execution_count": 25,
     "metadata": {},
     "output_type": "execute_result"
    }
   ],
   "source": [
    "200 - 100"
   ]
  },
  {
   "cell_type": "code",
   "execution_count": 26,
   "id": "79ad7320",
   "metadata": {},
   "outputs": [
    {
     "data": {
      "text/plain": [
       "100"
      ]
     },
     "execution_count": 26,
     "metadata": {},
     "output_type": "execute_result"
    }
   ],
   "source": [
    "199 - 99"
   ]
  },
  {
   "cell_type": "code",
   "execution_count": 27,
   "id": "2daa98e0",
   "metadata": {},
   "outputs": [
    {
     "data": {
      "text/plain": [
       "100"
      ]
     },
     "execution_count": 27,
     "metadata": {},
     "output_type": "execute_result"
    }
   ],
   "source": [
    "50 + 50"
   ]
  },
  {
   "cell_type": "code",
   "execution_count": 31,
   "id": "10836619",
   "metadata": {},
   "outputs": [],
   "source": [
    "x = 4.5"
   ]
  },
  {
   "cell_type": "code",
   "execution_count": 32,
   "id": "e39cf426",
   "metadata": {},
   "outputs": [],
   "source": [
    "y = 2.25"
   ]
  },
  {
   "cell_type": "code",
   "execution_count": 33,
   "id": "eb7a8e0f",
   "metadata": {},
   "outputs": [
    {
     "data": {
      "text/plain": [
       "2.0"
      ]
     },
     "execution_count": 33,
     "metadata": {},
     "output_type": "execute_result"
    }
   ],
   "source": [
    "x / y"
   ]
  },
  {
   "cell_type": "code",
   "execution_count": 34,
   "id": "593cbbbf",
   "metadata": {},
   "outputs": [],
   "source": [
    "x = 'bounce'"
   ]
  },
  {
   "cell_type": "code",
   "execution_count": 35,
   "id": "b0b94f0d",
   "metadata": {},
   "outputs": [],
   "source": [
    "y = 'house'"
   ]
  },
  {
   "cell_type": "code",
   "execution_count": 36,
   "id": "4ba975f2",
   "metadata": {},
   "outputs": [],
   "source": [
    "z = x + y"
   ]
  },
  {
   "cell_type": "code",
   "execution_count": 37,
   "id": "488cb29e",
   "metadata": {},
   "outputs": [
    {
     "name": "stdout",
     "output_type": "stream",
     "text": [
      "bouncehouse\n"
     ]
    }
   ],
   "source": [
    "print(z)"
   ]
  },
  {
   "cell_type": "code",
   "execution_count": 41,
   "id": "914ed4c1",
   "metadata": {},
   "outputs": [],
   "source": [
    "a = 'The grass is green and '"
   ]
  },
  {
   "cell_type": "code",
   "execution_count": 39,
   "id": "78ab73a5",
   "metadata": {},
   "outputs": [],
   "source": [
    "b = 'the sky is blue.'"
   ]
  },
  {
   "cell_type": "code",
   "execution_count": 42,
   "id": "cc4f86be",
   "metadata": {},
   "outputs": [
    {
     "data": {
      "text/plain": [
       "'The grass is green and the sky is blue.'"
      ]
     },
     "execution_count": 42,
     "metadata": {},
     "output_type": "execute_result"
    }
   ],
   "source": [
    "a + b"
   ]
  },
  {
   "cell_type": "code",
   "execution_count": 43,
   "id": "c36425ed",
   "metadata": {},
   "outputs": [],
   "source": [
    "c = 'I am learning how to '"
   ]
  },
  {
   "cell_type": "code",
   "execution_count": 44,
   "id": "8cea6d36",
   "metadata": {},
   "outputs": [],
   "source": [
    "d = 'code with Python!'"
   ]
  },
  {
   "cell_type": "code",
   "execution_count": 45,
   "id": "c983fee9",
   "metadata": {},
   "outputs": [
    {
     "data": {
      "text/plain": [
       "'I am learning how to code with Python!'"
      ]
     },
     "execution_count": 45,
     "metadata": {},
     "output_type": "execute_result"
    }
   ],
   "source": [
    "c + d"
   ]
  }
 ],
 "metadata": {
  "kernelspec": {
   "display_name": "Python 3 (ipykernel)",
   "language": "python",
   "name": "python3"
  },
  "language_info": {
   "codemirror_mode": {
    "name": "ipython",
    "version": 3
   },
   "file_extension": ".py",
   "mimetype": "text/x-python",
   "name": "python",
   "nbconvert_exporter": "python",
   "pygments_lexer": "ipython3",
   "version": "3.10.9"
  }
 },
 "nbformat": 4,
 "nbformat_minor": 5
}
