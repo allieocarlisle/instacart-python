{
 "cells": [
  {
   "cell_type": "markdown",
   "id": "19d107d6",
   "metadata": {},
   "source": [
    "# Task 4.10"
   ]
  },
  {
   "cell_type": "markdown",
   "id": "b7878306",
   "metadata": {},
   "source": [
    "## Table of Contents\n",
    "\n",
    "1. Import Libraries + Dataset\n",
    "2. Customer Profiling Variables\n",
    "    - age\n",
    "    - income\n",
    "    - goods\n",
    "    - number of dependents\n",
    "3. Visualizations\n",
    "4. Aggregate Customer Profiles\n",
    "    - time between orders\n",
    "    - expenditure\n",
    "5. Compare Customer Profiles with Regions and Departments\n",
    "    - age\n",
    "    - income\n",
    "    - goods\n",
    "    - number of dependents\n",
    "6. Export Final Data Set"
   ]
  },
  {
   "cell_type": "markdown",
   "id": "ee0b9340",
   "metadata": {},
   "source": [
    "# 01. Import Libraries + Dataset"
   ]
  },
  {
   "cell_type": "code",
   "execution_count": 1,
   "id": "a08e2c7f",
   "metadata": {},
   "outputs": [],
   "source": [
    "# Libraries\n",
    "import pandas as pd\n",
    "import numpy as np\n",
    "import os\n",
    "import matplotlib.pyplot as plt\n",
    "import seaborn as sns\n",
    "import scipy"
   ]
  },
  {
   "cell_type": "code",
   "execution_count": 2,
   "id": "268f42c3",
   "metadata": {},
   "outputs": [],
   "source": [
    "# define path\n",
    "path = r'/Users/alliecarlisle/Desktop/CareerFoundry_Data_Analytics/Instacart Basket Analysis'"
   ]
  },
  {
   "cell_type": "code",
   "execution_count": 3,
   "id": "f014d3c7",
   "metadata": {},
   "outputs": [],
   "source": [
    "# high order customer dataset\n",
    "df_customer = pd.read_pickle(os.path.join(path, '02 Data', 'Prepared Data', 'df_final_high_orders.pkl'))"
   ]
  },
  {
   "cell_type": "code",
   "execution_count": 4,
   "id": "4d2c7466",
   "metadata": {},
   "outputs": [
    {
     "data": {
      "text/plain": [
       "(29303281, 30)"
      ]
     },
     "execution_count": 4,
     "metadata": {},
     "output_type": "execute_result"
    }
   ],
   "source": [
    "# check\n",
    "df_customer.shape"
   ]
  },
  {
   "cell_type": "code",
   "execution_count": 5,
   "id": "56a6f22f",
   "metadata": {},
   "outputs": [],
   "source": [
    "# display all columns\n",
    "pd.options.display.max_columns = None"
   ]
  },
  {
   "cell_type": "code",
   "execution_count": 6,
   "id": "d412ed43",
   "metadata": {},
   "outputs": [
    {
     "data": {
      "text/html": [
       "<div>\n",
       "<style scoped>\n",
       "    .dataframe tbody tr th:only-of-type {\n",
       "        vertical-align: middle;\n",
       "    }\n",
       "\n",
       "    .dataframe tbody tr th {\n",
       "        vertical-align: top;\n",
       "    }\n",
       "\n",
       "    .dataframe thead th {\n",
       "        text-align: right;\n",
       "    }\n",
       "</style>\n",
       "<table border=\"1\" class=\"dataframe\">\n",
       "  <thead>\n",
       "    <tr style=\"text-align: right;\">\n",
       "      <th></th>\n",
       "      <th>user_id</th>\n",
       "      <th>state</th>\n",
       "      <th>age</th>\n",
       "      <th>n_dependants</th>\n",
       "      <th>family_status</th>\n",
       "      <th>income</th>\n",
       "      <th>order_id</th>\n",
       "      <th>order_number</th>\n",
       "      <th>orders_day_of_the_week</th>\n",
       "      <th>order_hour_of_day</th>\n",
       "      <th>time_between_orders</th>\n",
       "      <th>product_id</th>\n",
       "      <th>add_to_cart_order</th>\n",
       "      <th>reordered</th>\n",
       "      <th>product_name</th>\n",
       "      <th>aisle_id</th>\n",
       "      <th>department_id</th>\n",
       "      <th>prices</th>\n",
       "      <th>price_range_loc</th>\n",
       "      <th>busiest_days</th>\n",
       "      <th>busiest_time_of_day</th>\n",
       "      <th>max_order</th>\n",
       "      <th>loyalty_flag</th>\n",
       "      <th>mean_price</th>\n",
       "      <th>spending_flag</th>\n",
       "      <th>median_days</th>\n",
       "      <th>frequency_flag</th>\n",
       "      <th>_merge</th>\n",
       "      <th>region</th>\n",
       "      <th>exclusion_flag</th>\n",
       "    </tr>\n",
       "  </thead>\n",
       "  <tbody>\n",
       "    <tr>\n",
       "      <th>0</th>\n",
       "      <td>26711</td>\n",
       "      <td>Missouri</td>\n",
       "      <td>48</td>\n",
       "      <td>3</td>\n",
       "      <td>married</td>\n",
       "      <td>165665</td>\n",
       "      <td>2543867</td>\n",
       "      <td>5</td>\n",
       "      <td>1</td>\n",
       "      <td>9</td>\n",
       "      <td>30.0</td>\n",
       "      <td>196</td>\n",
       "      <td>2</td>\n",
       "      <td>0</td>\n",
       "      <td>Soda</td>\n",
       "      <td>77</td>\n",
       "      <td>7</td>\n",
       "      <td>9.0</td>\n",
       "      <td>Mid-range product</td>\n",
       "      <td>Busiest days</td>\n",
       "      <td>busiest time of day</td>\n",
       "      <td>8</td>\n",
       "      <td>New customer</td>\n",
       "      <td>8.205882</td>\n",
       "      <td>Low spender</td>\n",
       "      <td>19.0</td>\n",
       "      <td>Regular customer</td>\n",
       "      <td>both</td>\n",
       "      <td>Midwest</td>\n",
       "      <td>No</td>\n",
       "    </tr>\n",
       "    <tr>\n",
       "      <th>1</th>\n",
       "      <td>26711</td>\n",
       "      <td>Missouri</td>\n",
       "      <td>48</td>\n",
       "      <td>3</td>\n",
       "      <td>married</td>\n",
       "      <td>165665</td>\n",
       "      <td>1285508</td>\n",
       "      <td>7</td>\n",
       "      <td>5</td>\n",
       "      <td>15</td>\n",
       "      <td>11.0</td>\n",
       "      <td>196</td>\n",
       "      <td>1</td>\n",
       "      <td>1</td>\n",
       "      <td>Soda</td>\n",
       "      <td>77</td>\n",
       "      <td>7</td>\n",
       "      <td>9.0</td>\n",
       "      <td>Mid-range product</td>\n",
       "      <td>Regular days</td>\n",
       "      <td>busiest time of day</td>\n",
       "      <td>8</td>\n",
       "      <td>New customer</td>\n",
       "      <td>8.205882</td>\n",
       "      <td>Low spender</td>\n",
       "      <td>19.0</td>\n",
       "      <td>Regular customer</td>\n",
       "      <td>both</td>\n",
       "      <td>Midwest</td>\n",
       "      <td>No</td>\n",
       "    </tr>\n",
       "    <tr>\n",
       "      <th>2</th>\n",
       "      <td>26711</td>\n",
       "      <td>Missouri</td>\n",
       "      <td>48</td>\n",
       "      <td>3</td>\n",
       "      <td>married</td>\n",
       "      <td>165665</td>\n",
       "      <td>2578584</td>\n",
       "      <td>8</td>\n",
       "      <td>1</td>\n",
       "      <td>15</td>\n",
       "      <td>10.0</td>\n",
       "      <td>196</td>\n",
       "      <td>2</td>\n",
       "      <td>1</td>\n",
       "      <td>Soda</td>\n",
       "      <td>77</td>\n",
       "      <td>7</td>\n",
       "      <td>9.0</td>\n",
       "      <td>Mid-range product</td>\n",
       "      <td>Busiest days</td>\n",
       "      <td>busiest time of day</td>\n",
       "      <td>8</td>\n",
       "      <td>New customer</td>\n",
       "      <td>8.205882</td>\n",
       "      <td>Low spender</td>\n",
       "      <td>19.0</td>\n",
       "      <td>Regular customer</td>\n",
       "      <td>both</td>\n",
       "      <td>Midwest</td>\n",
       "      <td>No</td>\n",
       "    </tr>\n",
       "    <tr>\n",
       "      <th>3</th>\n",
       "      <td>26711</td>\n",
       "      <td>Missouri</td>\n",
       "      <td>48</td>\n",
       "      <td>3</td>\n",
       "      <td>married</td>\n",
       "      <td>165665</td>\n",
       "      <td>423547</td>\n",
       "      <td>2</td>\n",
       "      <td>2</td>\n",
       "      <td>9</td>\n",
       "      <td>14.0</td>\n",
       "      <td>38928</td>\n",
       "      <td>1</td>\n",
       "      <td>0</td>\n",
       "      <td>0% Greek Strained Yogurt</td>\n",
       "      <td>120</td>\n",
       "      <td>16</td>\n",
       "      <td>12.6</td>\n",
       "      <td>Mid-range product</td>\n",
       "      <td>Regular days</td>\n",
       "      <td>busiest time of day</td>\n",
       "      <td>8</td>\n",
       "      <td>New customer</td>\n",
       "      <td>8.205882</td>\n",
       "      <td>Low spender</td>\n",
       "      <td>19.0</td>\n",
       "      <td>Regular customer</td>\n",
       "      <td>both</td>\n",
       "      <td>Midwest</td>\n",
       "      <td>No</td>\n",
       "    </tr>\n",
       "  </tbody>\n",
       "</table>\n",
       "</div>"
      ],
      "text/plain": [
       "   user_id     state  age  n_dependants family_status  income  order_id  \\\n",
       "0    26711  Missouri   48             3       married  165665   2543867   \n",
       "1    26711  Missouri   48             3       married  165665   1285508   \n",
       "2    26711  Missouri   48             3       married  165665   2578584   \n",
       "3    26711  Missouri   48             3       married  165665    423547   \n",
       "\n",
       "   order_number  orders_day_of_the_week  order_hour_of_day  \\\n",
       "0             5                       1                  9   \n",
       "1             7                       5                 15   \n",
       "2             8                       1                 15   \n",
       "3             2                       2                  9   \n",
       "\n",
       "   time_between_orders  product_id  add_to_cart_order  reordered  \\\n",
       "0                 30.0         196                  2          0   \n",
       "1                 11.0         196                  1          1   \n",
       "2                 10.0         196                  2          1   \n",
       "3                 14.0       38928                  1          0   \n",
       "\n",
       "               product_name  aisle_id  department_id  prices  \\\n",
       "0                      Soda        77              7     9.0   \n",
       "1                      Soda        77              7     9.0   \n",
       "2                      Soda        77              7     9.0   \n",
       "3  0% Greek Strained Yogurt       120             16    12.6   \n",
       "\n",
       "     price_range_loc  busiest_days  busiest_time_of_day  max_order  \\\n",
       "0  Mid-range product  Busiest days  busiest time of day          8   \n",
       "1  Mid-range product  Regular days  busiest time of day          8   \n",
       "2  Mid-range product  Busiest days  busiest time of day          8   \n",
       "3  Mid-range product  Regular days  busiest time of day          8   \n",
       "\n",
       "   loyalty_flag  mean_price spending_flag  median_days    frequency_flag  \\\n",
       "0  New customer    8.205882   Low spender         19.0  Regular customer   \n",
       "1  New customer    8.205882   Low spender         19.0  Regular customer   \n",
       "2  New customer    8.205882   Low spender         19.0  Regular customer   \n",
       "3  New customer    8.205882   Low spender         19.0  Regular customer   \n",
       "\n",
       "  _merge   region exclusion_flag  \n",
       "0   both  Midwest             No  \n",
       "1   both  Midwest             No  \n",
       "2   both  Midwest             No  \n",
       "3   both  Midwest             No  "
      ]
     },
     "execution_count": 6,
     "metadata": {},
     "output_type": "execute_result"
    }
   ],
   "source": [
    "# check\n",
    "df_customer.head(4)"
   ]
  },
  {
   "cell_type": "markdown",
   "id": "cfdcf78d",
   "metadata": {},
   "source": [
    "# 02. Customer Profiling Variables"
   ]
  },
  {
   "cell_type": "markdown",
   "id": "d1c0f28a",
   "metadata": {},
   "source": [
    "### Age"
   ]
  },
  {
   "cell_type": "code",
   "execution_count": 13,
   "id": "90a61117",
   "metadata": {},
   "outputs": [],
   "source": [
    "# create an age flag\n",
    "df_customer.loc[df_customer['age'] <= 25, 'age_profile'] = 'Young Adult'"
   ]
  },
  {
   "cell_type": "code",
   "execution_count": 14,
   "id": "fcdcc0c2",
   "metadata": {},
   "outputs": [],
   "source": [
    "df_customer.loc[(df_customer['age'] > 25) & (df_customer['age'] < 40), 'age_profile'] = 'Adult'"
   ]
  },
  {
   "cell_type": "code",
   "execution_count": 15,
   "id": "f13acf44",
   "metadata": {},
   "outputs": [],
   "source": [
    "df_customer.loc[(df_customer['age'] >= 40) & (df_customer['age'] < 65), 'age_profile'] = 'Middle Aged'"
   ]
  },
  {
   "cell_type": "code",
   "execution_count": 16,
   "id": "a7506c26",
   "metadata": {},
   "outputs": [],
   "source": [
    "df_customer.loc[df_customer['age'] >= 65, 'age_profile'] = 'Senior'"
   ]
  },
  {
   "cell_type": "code",
   "execution_count": 17,
   "id": "47d77ad4",
   "metadata": {},
   "outputs": [
    {
     "data": {
      "text/plain": [
       "Middle Aged    11453701\n",
       "Senior          7754560\n",
       "Adult           6438435\n",
       "Young Adult     3656585\n",
       "Name: age_profile, dtype: int64"
      ]
     },
     "execution_count": 17,
     "metadata": {},
     "output_type": "execute_result"
    }
   ],
   "source": [
    "df_customer['age_profile'].value_counts(dropna = False)"
   ]
  },
  {
   "cell_type": "code",
   "execution_count": 20,
   "id": "d7c06979",
   "metadata": {},
   "outputs": [
    {
     "data": {
      "text/html": [
       "<div>\n",
       "<style scoped>\n",
       "    .dataframe tbody tr th:only-of-type {\n",
       "        vertical-align: middle;\n",
       "    }\n",
       "\n",
       "    .dataframe tbody tr th {\n",
       "        vertical-align: top;\n",
       "    }\n",
       "\n",
       "    .dataframe thead th {\n",
       "        text-align: right;\n",
       "    }\n",
       "</style>\n",
       "<table border=\"1\" class=\"dataframe\">\n",
       "  <thead>\n",
       "    <tr style=\"text-align: right;\">\n",
       "      <th></th>\n",
       "      <th>user_id</th>\n",
       "      <th>state</th>\n",
       "      <th>age</th>\n",
       "      <th>n_dependants</th>\n",
       "      <th>family_status</th>\n",
       "      <th>income</th>\n",
       "      <th>order_id</th>\n",
       "      <th>order_number</th>\n",
       "      <th>orders_day_of_the_week</th>\n",
       "      <th>order_hour_of_day</th>\n",
       "      <th>time_between_orders</th>\n",
       "      <th>product_id</th>\n",
       "      <th>add_to_cart_order</th>\n",
       "      <th>reordered</th>\n",
       "      <th>product_name</th>\n",
       "      <th>aisle_id</th>\n",
       "      <th>department_id</th>\n",
       "      <th>prices</th>\n",
       "      <th>price_range_loc</th>\n",
       "      <th>busiest_days</th>\n",
       "      <th>busiest_time_of_day</th>\n",
       "      <th>max_order</th>\n",
       "      <th>loyalty_flag</th>\n",
       "      <th>mean_price</th>\n",
       "      <th>spending_flag</th>\n",
       "      <th>median_days</th>\n",
       "      <th>frequency_flag</th>\n",
       "      <th>_merge</th>\n",
       "      <th>region</th>\n",
       "      <th>exclusion_flag</th>\n",
       "      <th>age_profile</th>\n",
       "    </tr>\n",
       "  </thead>\n",
       "  <tbody>\n",
       "    <tr>\n",
       "      <th>0</th>\n",
       "      <td>26711</td>\n",
       "      <td>Missouri</td>\n",
       "      <td>48</td>\n",
       "      <td>3</td>\n",
       "      <td>married</td>\n",
       "      <td>165665</td>\n",
       "      <td>2543867</td>\n",
       "      <td>5</td>\n",
       "      <td>1</td>\n",
       "      <td>9</td>\n",
       "      <td>30.0</td>\n",
       "      <td>196</td>\n",
       "      <td>2</td>\n",
       "      <td>0</td>\n",
       "      <td>Soda</td>\n",
       "      <td>77</td>\n",
       "      <td>7</td>\n",
       "      <td>9.0</td>\n",
       "      <td>Mid-range product</td>\n",
       "      <td>Busiest days</td>\n",
       "      <td>busiest time of day</td>\n",
       "      <td>8</td>\n",
       "      <td>New customer</td>\n",
       "      <td>8.205882</td>\n",
       "      <td>Low spender</td>\n",
       "      <td>19.0</td>\n",
       "      <td>Regular customer</td>\n",
       "      <td>both</td>\n",
       "      <td>Midwest</td>\n",
       "      <td>No</td>\n",
       "      <td>Middle Aged</td>\n",
       "    </tr>\n",
       "    <tr>\n",
       "      <th>1</th>\n",
       "      <td>26711</td>\n",
       "      <td>Missouri</td>\n",
       "      <td>48</td>\n",
       "      <td>3</td>\n",
       "      <td>married</td>\n",
       "      <td>165665</td>\n",
       "      <td>1285508</td>\n",
       "      <td>7</td>\n",
       "      <td>5</td>\n",
       "      <td>15</td>\n",
       "      <td>11.0</td>\n",
       "      <td>196</td>\n",
       "      <td>1</td>\n",
       "      <td>1</td>\n",
       "      <td>Soda</td>\n",
       "      <td>77</td>\n",
       "      <td>7</td>\n",
       "      <td>9.0</td>\n",
       "      <td>Mid-range product</td>\n",
       "      <td>Regular days</td>\n",
       "      <td>busiest time of day</td>\n",
       "      <td>8</td>\n",
       "      <td>New customer</td>\n",
       "      <td>8.205882</td>\n",
       "      <td>Low spender</td>\n",
       "      <td>19.0</td>\n",
       "      <td>Regular customer</td>\n",
       "      <td>both</td>\n",
       "      <td>Midwest</td>\n",
       "      <td>No</td>\n",
       "      <td>Middle Aged</td>\n",
       "    </tr>\n",
       "    <tr>\n",
       "      <th>2</th>\n",
       "      <td>26711</td>\n",
       "      <td>Missouri</td>\n",
       "      <td>48</td>\n",
       "      <td>3</td>\n",
       "      <td>married</td>\n",
       "      <td>165665</td>\n",
       "      <td>2578584</td>\n",
       "      <td>8</td>\n",
       "      <td>1</td>\n",
       "      <td>15</td>\n",
       "      <td>10.0</td>\n",
       "      <td>196</td>\n",
       "      <td>2</td>\n",
       "      <td>1</td>\n",
       "      <td>Soda</td>\n",
       "      <td>77</td>\n",
       "      <td>7</td>\n",
       "      <td>9.0</td>\n",
       "      <td>Mid-range product</td>\n",
       "      <td>Busiest days</td>\n",
       "      <td>busiest time of day</td>\n",
       "      <td>8</td>\n",
       "      <td>New customer</td>\n",
       "      <td>8.205882</td>\n",
       "      <td>Low spender</td>\n",
       "      <td>19.0</td>\n",
       "      <td>Regular customer</td>\n",
       "      <td>both</td>\n",
       "      <td>Midwest</td>\n",
       "      <td>No</td>\n",
       "      <td>Middle Aged</td>\n",
       "    </tr>\n",
       "    <tr>\n",
       "      <th>3</th>\n",
       "      <td>26711</td>\n",
       "      <td>Missouri</td>\n",
       "      <td>48</td>\n",
       "      <td>3</td>\n",
       "      <td>married</td>\n",
       "      <td>165665</td>\n",
       "      <td>423547</td>\n",
       "      <td>2</td>\n",
       "      <td>2</td>\n",
       "      <td>9</td>\n",
       "      <td>14.0</td>\n",
       "      <td>38928</td>\n",
       "      <td>1</td>\n",
       "      <td>0</td>\n",
       "      <td>0% Greek Strained Yogurt</td>\n",
       "      <td>120</td>\n",
       "      <td>16</td>\n",
       "      <td>12.6</td>\n",
       "      <td>Mid-range product</td>\n",
       "      <td>Regular days</td>\n",
       "      <td>busiest time of day</td>\n",
       "      <td>8</td>\n",
       "      <td>New customer</td>\n",
       "      <td>8.205882</td>\n",
       "      <td>Low spender</td>\n",
       "      <td>19.0</td>\n",
       "      <td>Regular customer</td>\n",
       "      <td>both</td>\n",
       "      <td>Midwest</td>\n",
       "      <td>No</td>\n",
       "      <td>Middle Aged</td>\n",
       "    </tr>\n",
       "  </tbody>\n",
       "</table>\n",
       "</div>"
      ],
      "text/plain": [
       "   user_id     state  age  n_dependants family_status  income  order_id  \\\n",
       "0    26711  Missouri   48             3       married  165665   2543867   \n",
       "1    26711  Missouri   48             3       married  165665   1285508   \n",
       "2    26711  Missouri   48             3       married  165665   2578584   \n",
       "3    26711  Missouri   48             3       married  165665    423547   \n",
       "\n",
       "   order_number  orders_day_of_the_week  order_hour_of_day  \\\n",
       "0             5                       1                  9   \n",
       "1             7                       5                 15   \n",
       "2             8                       1                 15   \n",
       "3             2                       2                  9   \n",
       "\n",
       "   time_between_orders  product_id  add_to_cart_order  reordered  \\\n",
       "0                 30.0         196                  2          0   \n",
       "1                 11.0         196                  1          1   \n",
       "2                 10.0         196                  2          1   \n",
       "3                 14.0       38928                  1          0   \n",
       "\n",
       "               product_name  aisle_id  department_id  prices  \\\n",
       "0                      Soda        77              7     9.0   \n",
       "1                      Soda        77              7     9.0   \n",
       "2                      Soda        77              7     9.0   \n",
       "3  0% Greek Strained Yogurt       120             16    12.6   \n",
       "\n",
       "     price_range_loc  busiest_days  busiest_time_of_day  max_order  \\\n",
       "0  Mid-range product  Busiest days  busiest time of day          8   \n",
       "1  Mid-range product  Regular days  busiest time of day          8   \n",
       "2  Mid-range product  Busiest days  busiest time of day          8   \n",
       "3  Mid-range product  Regular days  busiest time of day          8   \n",
       "\n",
       "   loyalty_flag  mean_price spending_flag  median_days    frequency_flag  \\\n",
       "0  New customer    8.205882   Low spender         19.0  Regular customer   \n",
       "1  New customer    8.205882   Low spender         19.0  Regular customer   \n",
       "2  New customer    8.205882   Low spender         19.0  Regular customer   \n",
       "3  New customer    8.205882   Low spender         19.0  Regular customer   \n",
       "\n",
       "  _merge   region exclusion_flag  age_profile  \n",
       "0   both  Midwest             No  Middle Aged  \n",
       "1   both  Midwest             No  Middle Aged  \n",
       "2   both  Midwest             No  Middle Aged  \n",
       "3   both  Midwest             No  Middle Aged  "
      ]
     },
     "execution_count": 20,
     "metadata": {},
     "output_type": "execute_result"
    }
   ],
   "source": [
    "# check\n",
    "df_customer.head(4)"
   ]
  },
  {
   "cell_type": "markdown",
   "id": "95cf43ec",
   "metadata": {},
   "source": [
    "### Income"
   ]
  },
  {
   "cell_type": "code",
   "execution_count": 36,
   "id": "bad514f1",
   "metadata": {},
   "outputs": [],
   "source": [
    "# create an income flag\n",
    "df_customer.loc[df_customer['income'] <= 52200, 'income_profile'] = 'Lower'"
   ]
  },
  {
   "cell_type": "code",
   "execution_count": 37,
   "id": "51f0ad4a",
   "metadata": {},
   "outputs": [],
   "source": [
    "df_customer.loc[(df_customer['income'] > 52200) & (df_customer['income'] < 156600), 'income_profile'] = 'Middle'"
   ]
  },
  {
   "cell_type": "code",
   "execution_count": 38,
   "id": "07297a49",
   "metadata": {},
   "outputs": [],
   "source": [
    "df_customer.loc[df_customer['income'] >= 156600, 'income_profile'] = 'Upper'"
   ]
  },
  {
   "cell_type": "code",
   "execution_count": 39,
   "id": "e6dd8489",
   "metadata": {},
   "outputs": [
    {
     "data": {
      "text/plain": [
       "Middle    23233532\n",
       "Lower      3480218\n",
       "Upper      2589531\n",
       "Name: income_profile, dtype: int64"
      ]
     },
     "execution_count": 39,
     "metadata": {},
     "output_type": "execute_result"
    }
   ],
   "source": [
    "df_customer['income_profile'].value_counts(dropna = False)"
   ]
  },
  {
   "cell_type": "code",
   "execution_count": 40,
   "id": "6f4cc13d",
   "metadata": {},
   "outputs": [
    {
     "data": {
      "text/html": [
       "<div>\n",
       "<style scoped>\n",
       "    .dataframe tbody tr th:only-of-type {\n",
       "        vertical-align: middle;\n",
       "    }\n",
       "\n",
       "    .dataframe tbody tr th {\n",
       "        vertical-align: top;\n",
       "    }\n",
       "\n",
       "    .dataframe thead th {\n",
       "        text-align: right;\n",
       "    }\n",
       "</style>\n",
       "<table border=\"1\" class=\"dataframe\">\n",
       "  <thead>\n",
       "    <tr style=\"text-align: right;\">\n",
       "      <th></th>\n",
       "      <th>user_id</th>\n",
       "      <th>state</th>\n",
       "      <th>age</th>\n",
       "      <th>n_dependants</th>\n",
       "      <th>family_status</th>\n",
       "      <th>income</th>\n",
       "      <th>order_id</th>\n",
       "      <th>order_number</th>\n",
       "      <th>orders_day_of_the_week</th>\n",
       "      <th>order_hour_of_day</th>\n",
       "      <th>time_between_orders</th>\n",
       "      <th>product_id</th>\n",
       "      <th>add_to_cart_order</th>\n",
       "      <th>reordered</th>\n",
       "      <th>product_name</th>\n",
       "      <th>aisle_id</th>\n",
       "      <th>department_id</th>\n",
       "      <th>prices</th>\n",
       "      <th>price_range_loc</th>\n",
       "      <th>busiest_days</th>\n",
       "      <th>busiest_time_of_day</th>\n",
       "      <th>max_order</th>\n",
       "      <th>loyalty_flag</th>\n",
       "      <th>mean_price</th>\n",
       "      <th>spending_flag</th>\n",
       "      <th>median_days</th>\n",
       "      <th>frequency_flag</th>\n",
       "      <th>_merge</th>\n",
       "      <th>region</th>\n",
       "      <th>exclusion_flag</th>\n",
       "      <th>age_profile</th>\n",
       "      <th>parent_status</th>\n",
       "      <th>income_profile</th>\n",
       "    </tr>\n",
       "  </thead>\n",
       "  <tbody>\n",
       "    <tr>\n",
       "      <th>0</th>\n",
       "      <td>26711</td>\n",
       "      <td>Missouri</td>\n",
       "      <td>48</td>\n",
       "      <td>3</td>\n",
       "      <td>married</td>\n",
       "      <td>165665</td>\n",
       "      <td>2543867</td>\n",
       "      <td>5</td>\n",
       "      <td>1</td>\n",
       "      <td>9</td>\n",
       "      <td>30.0</td>\n",
       "      <td>196</td>\n",
       "      <td>2</td>\n",
       "      <td>0</td>\n",
       "      <td>Soda</td>\n",
       "      <td>77</td>\n",
       "      <td>7</td>\n",
       "      <td>9.0</td>\n",
       "      <td>Mid-range product</td>\n",
       "      <td>Busiest days</td>\n",
       "      <td>busiest time of day</td>\n",
       "      <td>8</td>\n",
       "      <td>New customer</td>\n",
       "      <td>8.205882</td>\n",
       "      <td>Low spender</td>\n",
       "      <td>19.0</td>\n",
       "      <td>Regular customer</td>\n",
       "      <td>both</td>\n",
       "      <td>Midwest</td>\n",
       "      <td>No</td>\n",
       "      <td>Middle Aged</td>\n",
       "      <td>Parent</td>\n",
       "      <td>Upper</td>\n",
       "    </tr>\n",
       "    <tr>\n",
       "      <th>1</th>\n",
       "      <td>26711</td>\n",
       "      <td>Missouri</td>\n",
       "      <td>48</td>\n",
       "      <td>3</td>\n",
       "      <td>married</td>\n",
       "      <td>165665</td>\n",
       "      <td>1285508</td>\n",
       "      <td>7</td>\n",
       "      <td>5</td>\n",
       "      <td>15</td>\n",
       "      <td>11.0</td>\n",
       "      <td>196</td>\n",
       "      <td>1</td>\n",
       "      <td>1</td>\n",
       "      <td>Soda</td>\n",
       "      <td>77</td>\n",
       "      <td>7</td>\n",
       "      <td>9.0</td>\n",
       "      <td>Mid-range product</td>\n",
       "      <td>Regular days</td>\n",
       "      <td>busiest time of day</td>\n",
       "      <td>8</td>\n",
       "      <td>New customer</td>\n",
       "      <td>8.205882</td>\n",
       "      <td>Low spender</td>\n",
       "      <td>19.0</td>\n",
       "      <td>Regular customer</td>\n",
       "      <td>both</td>\n",
       "      <td>Midwest</td>\n",
       "      <td>No</td>\n",
       "      <td>Middle Aged</td>\n",
       "      <td>Parent</td>\n",
       "      <td>Upper</td>\n",
       "    </tr>\n",
       "    <tr>\n",
       "      <th>2</th>\n",
       "      <td>26711</td>\n",
       "      <td>Missouri</td>\n",
       "      <td>48</td>\n",
       "      <td>3</td>\n",
       "      <td>married</td>\n",
       "      <td>165665</td>\n",
       "      <td>2578584</td>\n",
       "      <td>8</td>\n",
       "      <td>1</td>\n",
       "      <td>15</td>\n",
       "      <td>10.0</td>\n",
       "      <td>196</td>\n",
       "      <td>2</td>\n",
       "      <td>1</td>\n",
       "      <td>Soda</td>\n",
       "      <td>77</td>\n",
       "      <td>7</td>\n",
       "      <td>9.0</td>\n",
       "      <td>Mid-range product</td>\n",
       "      <td>Busiest days</td>\n",
       "      <td>busiest time of day</td>\n",
       "      <td>8</td>\n",
       "      <td>New customer</td>\n",
       "      <td>8.205882</td>\n",
       "      <td>Low spender</td>\n",
       "      <td>19.0</td>\n",
       "      <td>Regular customer</td>\n",
       "      <td>both</td>\n",
       "      <td>Midwest</td>\n",
       "      <td>No</td>\n",
       "      <td>Middle Aged</td>\n",
       "      <td>Parent</td>\n",
       "      <td>Upper</td>\n",
       "    </tr>\n",
       "    <tr>\n",
       "      <th>3</th>\n",
       "      <td>26711</td>\n",
       "      <td>Missouri</td>\n",
       "      <td>48</td>\n",
       "      <td>3</td>\n",
       "      <td>married</td>\n",
       "      <td>165665</td>\n",
       "      <td>423547</td>\n",
       "      <td>2</td>\n",
       "      <td>2</td>\n",
       "      <td>9</td>\n",
       "      <td>14.0</td>\n",
       "      <td>38928</td>\n",
       "      <td>1</td>\n",
       "      <td>0</td>\n",
       "      <td>0% Greek Strained Yogurt</td>\n",
       "      <td>120</td>\n",
       "      <td>16</td>\n",
       "      <td>12.6</td>\n",
       "      <td>Mid-range product</td>\n",
       "      <td>Regular days</td>\n",
       "      <td>busiest time of day</td>\n",
       "      <td>8</td>\n",
       "      <td>New customer</td>\n",
       "      <td>8.205882</td>\n",
       "      <td>Low spender</td>\n",
       "      <td>19.0</td>\n",
       "      <td>Regular customer</td>\n",
       "      <td>both</td>\n",
       "      <td>Midwest</td>\n",
       "      <td>No</td>\n",
       "      <td>Middle Aged</td>\n",
       "      <td>Parent</td>\n",
       "      <td>Upper</td>\n",
       "    </tr>\n",
       "  </tbody>\n",
       "</table>\n",
       "</div>"
      ],
      "text/plain": [
       "   user_id     state  age  n_dependants family_status  income  order_id  \\\n",
       "0    26711  Missouri   48             3       married  165665   2543867   \n",
       "1    26711  Missouri   48             3       married  165665   1285508   \n",
       "2    26711  Missouri   48             3       married  165665   2578584   \n",
       "3    26711  Missouri   48             3       married  165665    423547   \n",
       "\n",
       "   order_number  orders_day_of_the_week  order_hour_of_day  \\\n",
       "0             5                       1                  9   \n",
       "1             7                       5                 15   \n",
       "2             8                       1                 15   \n",
       "3             2                       2                  9   \n",
       "\n",
       "   time_between_orders  product_id  add_to_cart_order  reordered  \\\n",
       "0                 30.0         196                  2          0   \n",
       "1                 11.0         196                  1          1   \n",
       "2                 10.0         196                  2          1   \n",
       "3                 14.0       38928                  1          0   \n",
       "\n",
       "               product_name  aisle_id  department_id  prices  \\\n",
       "0                      Soda        77              7     9.0   \n",
       "1                      Soda        77              7     9.0   \n",
       "2                      Soda        77              7     9.0   \n",
       "3  0% Greek Strained Yogurt       120             16    12.6   \n",
       "\n",
       "     price_range_loc  busiest_days  busiest_time_of_day  max_order  \\\n",
       "0  Mid-range product  Busiest days  busiest time of day          8   \n",
       "1  Mid-range product  Regular days  busiest time of day          8   \n",
       "2  Mid-range product  Busiest days  busiest time of day          8   \n",
       "3  Mid-range product  Regular days  busiest time of day          8   \n",
       "\n",
       "   loyalty_flag  mean_price spending_flag  median_days    frequency_flag  \\\n",
       "0  New customer    8.205882   Low spender         19.0  Regular customer   \n",
       "1  New customer    8.205882   Low spender         19.0  Regular customer   \n",
       "2  New customer    8.205882   Low spender         19.0  Regular customer   \n",
       "3  New customer    8.205882   Low spender         19.0  Regular customer   \n",
       "\n",
       "  _merge   region exclusion_flag  age_profile parent_status income_profile  \n",
       "0   both  Midwest             No  Middle Aged        Parent          Upper  \n",
       "1   both  Midwest             No  Middle Aged        Parent          Upper  \n",
       "2   both  Midwest             No  Middle Aged        Parent          Upper  \n",
       "3   both  Midwest             No  Middle Aged        Parent          Upper  "
      ]
     },
     "execution_count": 40,
     "metadata": {},
     "output_type": "execute_result"
    }
   ],
   "source": [
    "# check\n",
    "df_customer.head(4)"
   ]
  },
  {
   "cell_type": "markdown",
   "id": "da2dcc82",
   "metadata": {},
   "source": [
    "### Goods"
   ]
  },
  {
   "cell_type": "markdown",
   "id": "f78f8aac",
   "metadata": {},
   "source": [
    "### Note - the loc function below is my first attempt, I figured out a faster way to do this using a for-loop if statement:\n",
    "\n",
    "department_id_category = [ ] \n",
    "\n",
    "for value in df_customer['department_id']:\n",
    "    if value in [3, 4, 12, 16, 20]:\n",
    "        department_id_category.append('fresh')\n",
    "    elif value in [1, 5, 6, 7, 9, 10, 13, 14, 15, 19]:\n",
    "        department_id_category.append('dry')\n",
    "    else:\n",
    "        department_id_category.append('household supplies')\n",
    "        \n",
    "new line\n",
    "df_customer['goods_profile'] = department_id_category"
   ]
  },
  {
   "cell_type": "code",
   "execution_count": 55,
   "id": "f51770eb",
   "metadata": {},
   "outputs": [],
   "source": [
    "# create a goods flag, need to find a faster way to do this\n",
    "df_customer.loc[df_customer['department_id'] == 3, 'goods_profile'] = 'Fresh'"
   ]
  },
  {
   "cell_type": "code",
   "execution_count": 56,
   "id": "ce7cff34",
   "metadata": {},
   "outputs": [],
   "source": [
    "df_customer.loc[df_customer['department_id'] == 4, 'goods_profile'] = 'Fresh'"
   ]
  },
  {
   "cell_type": "code",
   "execution_count": 57,
   "id": "c7bf48d6",
   "metadata": {},
   "outputs": [],
   "source": [
    "df_customer.loc[df_customer['department_id'] == 12, 'goods_profile'] = 'Fresh'"
   ]
  },
  {
   "cell_type": "code",
   "execution_count": 59,
   "id": "96863b17",
   "metadata": {},
   "outputs": [],
   "source": [
    "df_customer.loc[df_customer['department_id'] == 16, 'goods_profile'] = 'Fresh'"
   ]
  },
  {
   "cell_type": "code",
   "execution_count": 60,
   "id": "1aec7dec",
   "metadata": {},
   "outputs": [],
   "source": [
    "df_customer.loc[df_customer['department_id'] == 20, 'goods_profile'] = 'Fresh'"
   ]
  },
  {
   "cell_type": "code",
   "execution_count": 62,
   "id": "d9adef88",
   "metadata": {},
   "outputs": [],
   "source": [
    "df_customer.loc[df_customer['department_id'] == 1, 'goods_profile'] = 'Dry'"
   ]
  },
  {
   "cell_type": "code",
   "execution_count": 63,
   "id": "fff4d5e2",
   "metadata": {},
   "outputs": [],
   "source": [
    "df_customer.loc[df_customer['department_id'] == 5, 'goods_profile'] = 'Dry'"
   ]
  },
  {
   "cell_type": "code",
   "execution_count": 64,
   "id": "21eb69cb",
   "metadata": {},
   "outputs": [],
   "source": [
    "df_customer.loc[df_customer['department_id'] == 6, 'goods_profile'] = 'Dry'"
   ]
  },
  {
   "cell_type": "code",
   "execution_count": 65,
   "id": "9e3fb50f",
   "metadata": {},
   "outputs": [],
   "source": [
    "df_customer.loc[df_customer['department_id'] == 7, 'goods_profile'] = 'Dry'"
   ]
  },
  {
   "cell_type": "code",
   "execution_count": 67,
   "id": "2c41bf90",
   "metadata": {},
   "outputs": [],
   "source": [
    "df_customer.loc[df_customer['department_id'] == 9, 'goods_profile'] = 'Dry'"
   ]
  },
  {
   "cell_type": "code",
   "execution_count": 68,
   "id": "70aa75cf",
   "metadata": {},
   "outputs": [],
   "source": [
    "df_customer.loc[df_customer['department_id'] == 10, 'goods_profile'] = 'Dry'"
   ]
  },
  {
   "cell_type": "code",
   "execution_count": 69,
   "id": "5db6508a",
   "metadata": {},
   "outputs": [],
   "source": [
    "df_customer.loc[df_customer['department_id'] == 13, 'goods_profile'] = 'Dry'"
   ]
  },
  {
   "cell_type": "code",
   "execution_count": 70,
   "id": "42b6181c",
   "metadata": {},
   "outputs": [],
   "source": [
    "df_customer.loc[df_customer['department_id'] == 14, 'goods_profile'] = 'Dry'"
   ]
  },
  {
   "cell_type": "code",
   "execution_count": 71,
   "id": "e3b6b378",
   "metadata": {},
   "outputs": [],
   "source": [
    "df_customer.loc[df_customer['department_id'] == 15, 'goods_profile'] = 'Dry'"
   ]
  },
  {
   "cell_type": "code",
   "execution_count": 72,
   "id": "22feaab9",
   "metadata": {},
   "outputs": [],
   "source": [
    "df_customer.loc[df_customer['department_id'] == 19, 'goods_profile'] = 'Dry'"
   ]
  },
  {
   "cell_type": "code",
   "execution_count": 74,
   "id": "2b4c9381",
   "metadata": {},
   "outputs": [],
   "source": [
    "df_customer.loc[df_customer['department_id'] == 2, 'goods_profile'] = 'Household Supplies'"
   ]
  },
  {
   "cell_type": "code",
   "execution_count": 75,
   "id": "88325803",
   "metadata": {},
   "outputs": [],
   "source": [
    "df_customer.loc[df_customer['department_id'] == 8, 'goods_profile'] = 'Household Supplies'"
   ]
  },
  {
   "cell_type": "code",
   "execution_count": 76,
   "id": "6c040760",
   "metadata": {},
   "outputs": [],
   "source": [
    "df_customer.loc[df_customer['department_id'] == 11, 'goods_profile'] = 'Household Supplies'"
   ]
  },
  {
   "cell_type": "code",
   "execution_count": 77,
   "id": "b8b2b1c1",
   "metadata": {},
   "outputs": [],
   "source": [
    "df_customer.loc[df_customer['department_id'] == 17, 'goods_profile'] = 'Household Supplies'"
   ]
  },
  {
   "cell_type": "code",
   "execution_count": 78,
   "id": "284159db",
   "metadata": {},
   "outputs": [],
   "source": [
    "df_customer.loc[df_customer['department_id'] == 18, 'goods_profile'] = 'Household Supplies'"
   ]
  },
  {
   "cell_type": "code",
   "execution_count": 79,
   "id": "33ea8bf1",
   "metadata": {},
   "outputs": [],
   "source": [
    "df_customer.loc[df_customer['department_id'] == 21, 'goods_profile'] = 'Household Supplies'"
   ]
  },
  {
   "cell_type": "code",
   "execution_count": 80,
   "id": "70a03309",
   "metadata": {},
   "outputs": [
    {
     "data": {
      "text/plain": [
       "Fresh                 16163495\n",
       "Dry                   11505599\n",
       "Household Supplies     1634187\n",
       "Name: goods_profile, dtype: int64"
      ]
     },
     "execution_count": 80,
     "metadata": {},
     "output_type": "execute_result"
    }
   ],
   "source": [
    "df_customer['goods_profile'].value_counts(dropna = False)"
   ]
  },
  {
   "cell_type": "code",
   "execution_count": 81,
   "id": "847cd13f",
   "metadata": {},
   "outputs": [
    {
     "data": {
      "text/html": [
       "<div>\n",
       "<style scoped>\n",
       "    .dataframe tbody tr th:only-of-type {\n",
       "        vertical-align: middle;\n",
       "    }\n",
       "\n",
       "    .dataframe tbody tr th {\n",
       "        vertical-align: top;\n",
       "    }\n",
       "\n",
       "    .dataframe thead th {\n",
       "        text-align: right;\n",
       "    }\n",
       "</style>\n",
       "<table border=\"1\" class=\"dataframe\">\n",
       "  <thead>\n",
       "    <tr style=\"text-align: right;\">\n",
       "      <th></th>\n",
       "      <th>user_id</th>\n",
       "      <th>state</th>\n",
       "      <th>age</th>\n",
       "      <th>n_dependants</th>\n",
       "      <th>family_status</th>\n",
       "      <th>income</th>\n",
       "      <th>order_id</th>\n",
       "      <th>order_number</th>\n",
       "      <th>orders_day_of_the_week</th>\n",
       "      <th>order_hour_of_day</th>\n",
       "      <th>time_between_orders</th>\n",
       "      <th>product_id</th>\n",
       "      <th>add_to_cart_order</th>\n",
       "      <th>reordered</th>\n",
       "      <th>product_name</th>\n",
       "      <th>aisle_id</th>\n",
       "      <th>department_id</th>\n",
       "      <th>prices</th>\n",
       "      <th>price_range_loc</th>\n",
       "      <th>busiest_days</th>\n",
       "      <th>busiest_time_of_day</th>\n",
       "      <th>max_order</th>\n",
       "      <th>loyalty_flag</th>\n",
       "      <th>mean_price</th>\n",
       "      <th>spending_flag</th>\n",
       "      <th>median_days</th>\n",
       "      <th>frequency_flag</th>\n",
       "      <th>_merge</th>\n",
       "      <th>region</th>\n",
       "      <th>exclusion_flag</th>\n",
       "      <th>age_profile</th>\n",
       "      <th>parent_status</th>\n",
       "      <th>income_profile</th>\n",
       "      <th>goods_profile</th>\n",
       "    </tr>\n",
       "  </thead>\n",
       "  <tbody>\n",
       "    <tr>\n",
       "      <th>0</th>\n",
       "      <td>26711</td>\n",
       "      <td>Missouri</td>\n",
       "      <td>48</td>\n",
       "      <td>3</td>\n",
       "      <td>married</td>\n",
       "      <td>165665</td>\n",
       "      <td>2543867</td>\n",
       "      <td>5</td>\n",
       "      <td>1</td>\n",
       "      <td>9</td>\n",
       "      <td>30.0</td>\n",
       "      <td>196</td>\n",
       "      <td>2</td>\n",
       "      <td>0</td>\n",
       "      <td>Soda</td>\n",
       "      <td>77</td>\n",
       "      <td>7</td>\n",
       "      <td>9.0</td>\n",
       "      <td>Mid-range product</td>\n",
       "      <td>Busiest days</td>\n",
       "      <td>busiest time of day</td>\n",
       "      <td>8</td>\n",
       "      <td>New customer</td>\n",
       "      <td>8.205882</td>\n",
       "      <td>Low spender</td>\n",
       "      <td>19.0</td>\n",
       "      <td>Regular customer</td>\n",
       "      <td>both</td>\n",
       "      <td>Midwest</td>\n",
       "      <td>No</td>\n",
       "      <td>Middle Aged</td>\n",
       "      <td>Parent</td>\n",
       "      <td>Upper</td>\n",
       "      <td>Dry</td>\n",
       "    </tr>\n",
       "    <tr>\n",
       "      <th>1</th>\n",
       "      <td>26711</td>\n",
       "      <td>Missouri</td>\n",
       "      <td>48</td>\n",
       "      <td>3</td>\n",
       "      <td>married</td>\n",
       "      <td>165665</td>\n",
       "      <td>1285508</td>\n",
       "      <td>7</td>\n",
       "      <td>5</td>\n",
       "      <td>15</td>\n",
       "      <td>11.0</td>\n",
       "      <td>196</td>\n",
       "      <td>1</td>\n",
       "      <td>1</td>\n",
       "      <td>Soda</td>\n",
       "      <td>77</td>\n",
       "      <td>7</td>\n",
       "      <td>9.0</td>\n",
       "      <td>Mid-range product</td>\n",
       "      <td>Regular days</td>\n",
       "      <td>busiest time of day</td>\n",
       "      <td>8</td>\n",
       "      <td>New customer</td>\n",
       "      <td>8.205882</td>\n",
       "      <td>Low spender</td>\n",
       "      <td>19.0</td>\n",
       "      <td>Regular customer</td>\n",
       "      <td>both</td>\n",
       "      <td>Midwest</td>\n",
       "      <td>No</td>\n",
       "      <td>Middle Aged</td>\n",
       "      <td>Parent</td>\n",
       "      <td>Upper</td>\n",
       "      <td>Dry</td>\n",
       "    </tr>\n",
       "    <tr>\n",
       "      <th>2</th>\n",
       "      <td>26711</td>\n",
       "      <td>Missouri</td>\n",
       "      <td>48</td>\n",
       "      <td>3</td>\n",
       "      <td>married</td>\n",
       "      <td>165665</td>\n",
       "      <td>2578584</td>\n",
       "      <td>8</td>\n",
       "      <td>1</td>\n",
       "      <td>15</td>\n",
       "      <td>10.0</td>\n",
       "      <td>196</td>\n",
       "      <td>2</td>\n",
       "      <td>1</td>\n",
       "      <td>Soda</td>\n",
       "      <td>77</td>\n",
       "      <td>7</td>\n",
       "      <td>9.0</td>\n",
       "      <td>Mid-range product</td>\n",
       "      <td>Busiest days</td>\n",
       "      <td>busiest time of day</td>\n",
       "      <td>8</td>\n",
       "      <td>New customer</td>\n",
       "      <td>8.205882</td>\n",
       "      <td>Low spender</td>\n",
       "      <td>19.0</td>\n",
       "      <td>Regular customer</td>\n",
       "      <td>both</td>\n",
       "      <td>Midwest</td>\n",
       "      <td>No</td>\n",
       "      <td>Middle Aged</td>\n",
       "      <td>Parent</td>\n",
       "      <td>Upper</td>\n",
       "      <td>Dry</td>\n",
       "    </tr>\n",
       "    <tr>\n",
       "      <th>3</th>\n",
       "      <td>26711</td>\n",
       "      <td>Missouri</td>\n",
       "      <td>48</td>\n",
       "      <td>3</td>\n",
       "      <td>married</td>\n",
       "      <td>165665</td>\n",
       "      <td>423547</td>\n",
       "      <td>2</td>\n",
       "      <td>2</td>\n",
       "      <td>9</td>\n",
       "      <td>14.0</td>\n",
       "      <td>38928</td>\n",
       "      <td>1</td>\n",
       "      <td>0</td>\n",
       "      <td>0% Greek Strained Yogurt</td>\n",
       "      <td>120</td>\n",
       "      <td>16</td>\n",
       "      <td>12.6</td>\n",
       "      <td>Mid-range product</td>\n",
       "      <td>Regular days</td>\n",
       "      <td>busiest time of day</td>\n",
       "      <td>8</td>\n",
       "      <td>New customer</td>\n",
       "      <td>8.205882</td>\n",
       "      <td>Low spender</td>\n",
       "      <td>19.0</td>\n",
       "      <td>Regular customer</td>\n",
       "      <td>both</td>\n",
       "      <td>Midwest</td>\n",
       "      <td>No</td>\n",
       "      <td>Middle Aged</td>\n",
       "      <td>Parent</td>\n",
       "      <td>Upper</td>\n",
       "      <td>Fresh</td>\n",
       "    </tr>\n",
       "  </tbody>\n",
       "</table>\n",
       "</div>"
      ],
      "text/plain": [
       "   user_id     state  age  n_dependants family_status  income  order_id  \\\n",
       "0    26711  Missouri   48             3       married  165665   2543867   \n",
       "1    26711  Missouri   48             3       married  165665   1285508   \n",
       "2    26711  Missouri   48             3       married  165665   2578584   \n",
       "3    26711  Missouri   48             3       married  165665    423547   \n",
       "\n",
       "   order_number  orders_day_of_the_week  order_hour_of_day  \\\n",
       "0             5                       1                  9   \n",
       "1             7                       5                 15   \n",
       "2             8                       1                 15   \n",
       "3             2                       2                  9   \n",
       "\n",
       "   time_between_orders  product_id  add_to_cart_order  reordered  \\\n",
       "0                 30.0         196                  2          0   \n",
       "1                 11.0         196                  1          1   \n",
       "2                 10.0         196                  2          1   \n",
       "3                 14.0       38928                  1          0   \n",
       "\n",
       "               product_name  aisle_id  department_id  prices  \\\n",
       "0                      Soda        77              7     9.0   \n",
       "1                      Soda        77              7     9.0   \n",
       "2                      Soda        77              7     9.0   \n",
       "3  0% Greek Strained Yogurt       120             16    12.6   \n",
       "\n",
       "     price_range_loc  busiest_days  busiest_time_of_day  max_order  \\\n",
       "0  Mid-range product  Busiest days  busiest time of day          8   \n",
       "1  Mid-range product  Regular days  busiest time of day          8   \n",
       "2  Mid-range product  Busiest days  busiest time of day          8   \n",
       "3  Mid-range product  Regular days  busiest time of day          8   \n",
       "\n",
       "   loyalty_flag  mean_price spending_flag  median_days    frequency_flag  \\\n",
       "0  New customer    8.205882   Low spender         19.0  Regular customer   \n",
       "1  New customer    8.205882   Low spender         19.0  Regular customer   \n",
       "2  New customer    8.205882   Low spender         19.0  Regular customer   \n",
       "3  New customer    8.205882   Low spender         19.0  Regular customer   \n",
       "\n",
       "  _merge   region exclusion_flag  age_profile parent_status income_profile  \\\n",
       "0   both  Midwest             No  Middle Aged        Parent          Upper   \n",
       "1   both  Midwest             No  Middle Aged        Parent          Upper   \n",
       "2   both  Midwest             No  Middle Aged        Parent          Upper   \n",
       "3   both  Midwest             No  Middle Aged        Parent          Upper   \n",
       "\n",
       "  goods_profile  \n",
       "0           Dry  \n",
       "1           Dry  \n",
       "2           Dry  \n",
       "3         Fresh  "
      ]
     },
     "execution_count": 81,
     "metadata": {},
     "output_type": "execute_result"
    }
   ],
   "source": [
    "# check \n",
    "df_customer.head(4)"
   ]
  },
  {
   "cell_type": "code",
   "execution_count": null,
   "id": "05811037",
   "metadata": {},
   "outputs": [],
   "source": []
  },
  {
   "cell_type": "markdown",
   "id": "6015e7b5",
   "metadata": {},
   "source": [
    "### Number of Dependents"
   ]
  },
  {
   "cell_type": "code",
   "execution_count": 21,
   "id": "0ec1eabc",
   "metadata": {},
   "outputs": [
    {
     "data": {
      "text/plain": [
       "3    7357443\n",
       "0    7324887\n",
       "2    7317325\n",
       "1    7303626\n",
       "Name: n_dependants, dtype: int64"
      ]
     },
     "execution_count": 21,
     "metadata": {},
     "output_type": "execute_result"
    }
   ],
   "source": [
    "df_customer['n_dependants'].value_counts(dropna = False)"
   ]
  },
  {
   "cell_type": "code",
   "execution_count": 24,
   "id": "6dea7250",
   "metadata": {},
   "outputs": [],
   "source": [
    "df_customer.loc[df_customer['n_dependants'] == 0, 'parent_status'] = 'Nonparent'"
   ]
  },
  {
   "cell_type": "code",
   "execution_count": 25,
   "id": "c1e468b2",
   "metadata": {},
   "outputs": [],
   "source": [
    "df_customer.loc[df_customer['n_dependants'] == 1, 'parent_status'] = 'Parent'"
   ]
  },
  {
   "cell_type": "code",
   "execution_count": 26,
   "id": "186da1a9",
   "metadata": {},
   "outputs": [],
   "source": [
    "df_customer.loc[df_customer['n_dependants'] == 2, 'parent_status'] = 'Parent'"
   ]
  },
  {
   "cell_type": "code",
   "execution_count": 27,
   "id": "fbee4644",
   "metadata": {},
   "outputs": [],
   "source": [
    "df_customer.loc[df_customer['n_dependants'] == 3, 'parent_status'] = 'Parent'"
   ]
  },
  {
   "cell_type": "code",
   "execution_count": 28,
   "id": "94f04049",
   "metadata": {},
   "outputs": [
    {
     "data": {
      "text/plain": [
       "Parent       21978394\n",
       "Nonparent     7324887\n",
       "Name: parent_status, dtype: int64"
      ]
     },
     "execution_count": 28,
     "metadata": {},
     "output_type": "execute_result"
    }
   ],
   "source": [
    "df_customer['parent_status'].value_counts(dropna = False)"
   ]
  },
  {
   "cell_type": "code",
   "execution_count": 29,
   "id": "51d14f96",
   "metadata": {},
   "outputs": [
    {
     "data": {
      "text/html": [
       "<div>\n",
       "<style scoped>\n",
       "    .dataframe tbody tr th:only-of-type {\n",
       "        vertical-align: middle;\n",
       "    }\n",
       "\n",
       "    .dataframe tbody tr th {\n",
       "        vertical-align: top;\n",
       "    }\n",
       "\n",
       "    .dataframe thead th {\n",
       "        text-align: right;\n",
       "    }\n",
       "</style>\n",
       "<table border=\"1\" class=\"dataframe\">\n",
       "  <thead>\n",
       "    <tr style=\"text-align: right;\">\n",
       "      <th></th>\n",
       "      <th>user_id</th>\n",
       "      <th>state</th>\n",
       "      <th>age</th>\n",
       "      <th>n_dependants</th>\n",
       "      <th>family_status</th>\n",
       "      <th>income</th>\n",
       "      <th>order_id</th>\n",
       "      <th>order_number</th>\n",
       "      <th>orders_day_of_the_week</th>\n",
       "      <th>order_hour_of_day</th>\n",
       "      <th>time_between_orders</th>\n",
       "      <th>product_id</th>\n",
       "      <th>add_to_cart_order</th>\n",
       "      <th>reordered</th>\n",
       "      <th>product_name</th>\n",
       "      <th>aisle_id</th>\n",
       "      <th>department_id</th>\n",
       "      <th>prices</th>\n",
       "      <th>price_range_loc</th>\n",
       "      <th>busiest_days</th>\n",
       "      <th>busiest_time_of_day</th>\n",
       "      <th>max_order</th>\n",
       "      <th>loyalty_flag</th>\n",
       "      <th>mean_price</th>\n",
       "      <th>spending_flag</th>\n",
       "      <th>median_days</th>\n",
       "      <th>frequency_flag</th>\n",
       "      <th>_merge</th>\n",
       "      <th>region</th>\n",
       "      <th>exclusion_flag</th>\n",
       "      <th>age_profile</th>\n",
       "      <th>parent_status</th>\n",
       "    </tr>\n",
       "  </thead>\n",
       "  <tbody>\n",
       "    <tr>\n",
       "      <th>0</th>\n",
       "      <td>26711</td>\n",
       "      <td>Missouri</td>\n",
       "      <td>48</td>\n",
       "      <td>3</td>\n",
       "      <td>married</td>\n",
       "      <td>165665</td>\n",
       "      <td>2543867</td>\n",
       "      <td>5</td>\n",
       "      <td>1</td>\n",
       "      <td>9</td>\n",
       "      <td>30.0</td>\n",
       "      <td>196</td>\n",
       "      <td>2</td>\n",
       "      <td>0</td>\n",
       "      <td>Soda</td>\n",
       "      <td>77</td>\n",
       "      <td>7</td>\n",
       "      <td>9.0</td>\n",
       "      <td>Mid-range product</td>\n",
       "      <td>Busiest days</td>\n",
       "      <td>busiest time of day</td>\n",
       "      <td>8</td>\n",
       "      <td>New customer</td>\n",
       "      <td>8.205882</td>\n",
       "      <td>Low spender</td>\n",
       "      <td>19.0</td>\n",
       "      <td>Regular customer</td>\n",
       "      <td>both</td>\n",
       "      <td>Midwest</td>\n",
       "      <td>No</td>\n",
       "      <td>Middle Aged</td>\n",
       "      <td>Parent</td>\n",
       "    </tr>\n",
       "    <tr>\n",
       "      <th>1</th>\n",
       "      <td>26711</td>\n",
       "      <td>Missouri</td>\n",
       "      <td>48</td>\n",
       "      <td>3</td>\n",
       "      <td>married</td>\n",
       "      <td>165665</td>\n",
       "      <td>1285508</td>\n",
       "      <td>7</td>\n",
       "      <td>5</td>\n",
       "      <td>15</td>\n",
       "      <td>11.0</td>\n",
       "      <td>196</td>\n",
       "      <td>1</td>\n",
       "      <td>1</td>\n",
       "      <td>Soda</td>\n",
       "      <td>77</td>\n",
       "      <td>7</td>\n",
       "      <td>9.0</td>\n",
       "      <td>Mid-range product</td>\n",
       "      <td>Regular days</td>\n",
       "      <td>busiest time of day</td>\n",
       "      <td>8</td>\n",
       "      <td>New customer</td>\n",
       "      <td>8.205882</td>\n",
       "      <td>Low spender</td>\n",
       "      <td>19.0</td>\n",
       "      <td>Regular customer</td>\n",
       "      <td>both</td>\n",
       "      <td>Midwest</td>\n",
       "      <td>No</td>\n",
       "      <td>Middle Aged</td>\n",
       "      <td>Parent</td>\n",
       "    </tr>\n",
       "    <tr>\n",
       "      <th>2</th>\n",
       "      <td>26711</td>\n",
       "      <td>Missouri</td>\n",
       "      <td>48</td>\n",
       "      <td>3</td>\n",
       "      <td>married</td>\n",
       "      <td>165665</td>\n",
       "      <td>2578584</td>\n",
       "      <td>8</td>\n",
       "      <td>1</td>\n",
       "      <td>15</td>\n",
       "      <td>10.0</td>\n",
       "      <td>196</td>\n",
       "      <td>2</td>\n",
       "      <td>1</td>\n",
       "      <td>Soda</td>\n",
       "      <td>77</td>\n",
       "      <td>7</td>\n",
       "      <td>9.0</td>\n",
       "      <td>Mid-range product</td>\n",
       "      <td>Busiest days</td>\n",
       "      <td>busiest time of day</td>\n",
       "      <td>8</td>\n",
       "      <td>New customer</td>\n",
       "      <td>8.205882</td>\n",
       "      <td>Low spender</td>\n",
       "      <td>19.0</td>\n",
       "      <td>Regular customer</td>\n",
       "      <td>both</td>\n",
       "      <td>Midwest</td>\n",
       "      <td>No</td>\n",
       "      <td>Middle Aged</td>\n",
       "      <td>Parent</td>\n",
       "    </tr>\n",
       "    <tr>\n",
       "      <th>3</th>\n",
       "      <td>26711</td>\n",
       "      <td>Missouri</td>\n",
       "      <td>48</td>\n",
       "      <td>3</td>\n",
       "      <td>married</td>\n",
       "      <td>165665</td>\n",
       "      <td>423547</td>\n",
       "      <td>2</td>\n",
       "      <td>2</td>\n",
       "      <td>9</td>\n",
       "      <td>14.0</td>\n",
       "      <td>38928</td>\n",
       "      <td>1</td>\n",
       "      <td>0</td>\n",
       "      <td>0% Greek Strained Yogurt</td>\n",
       "      <td>120</td>\n",
       "      <td>16</td>\n",
       "      <td>12.6</td>\n",
       "      <td>Mid-range product</td>\n",
       "      <td>Regular days</td>\n",
       "      <td>busiest time of day</td>\n",
       "      <td>8</td>\n",
       "      <td>New customer</td>\n",
       "      <td>8.205882</td>\n",
       "      <td>Low spender</td>\n",
       "      <td>19.0</td>\n",
       "      <td>Regular customer</td>\n",
       "      <td>both</td>\n",
       "      <td>Midwest</td>\n",
       "      <td>No</td>\n",
       "      <td>Middle Aged</td>\n",
       "      <td>Parent</td>\n",
       "    </tr>\n",
       "  </tbody>\n",
       "</table>\n",
       "</div>"
      ],
      "text/plain": [
       "   user_id     state  age  n_dependants family_status  income  order_id  \\\n",
       "0    26711  Missouri   48             3       married  165665   2543867   \n",
       "1    26711  Missouri   48             3       married  165665   1285508   \n",
       "2    26711  Missouri   48             3       married  165665   2578584   \n",
       "3    26711  Missouri   48             3       married  165665    423547   \n",
       "\n",
       "   order_number  orders_day_of_the_week  order_hour_of_day  \\\n",
       "0             5                       1                  9   \n",
       "1             7                       5                 15   \n",
       "2             8                       1                 15   \n",
       "3             2                       2                  9   \n",
       "\n",
       "   time_between_orders  product_id  add_to_cart_order  reordered  \\\n",
       "0                 30.0         196                  2          0   \n",
       "1                 11.0         196                  1          1   \n",
       "2                 10.0         196                  2          1   \n",
       "3                 14.0       38928                  1          0   \n",
       "\n",
       "               product_name  aisle_id  department_id  prices  \\\n",
       "0                      Soda        77              7     9.0   \n",
       "1                      Soda        77              7     9.0   \n",
       "2                      Soda        77              7     9.0   \n",
       "3  0% Greek Strained Yogurt       120             16    12.6   \n",
       "\n",
       "     price_range_loc  busiest_days  busiest_time_of_day  max_order  \\\n",
       "0  Mid-range product  Busiest days  busiest time of day          8   \n",
       "1  Mid-range product  Regular days  busiest time of day          8   \n",
       "2  Mid-range product  Busiest days  busiest time of day          8   \n",
       "3  Mid-range product  Regular days  busiest time of day          8   \n",
       "\n",
       "   loyalty_flag  mean_price spending_flag  median_days    frequency_flag  \\\n",
       "0  New customer    8.205882   Low spender         19.0  Regular customer   \n",
       "1  New customer    8.205882   Low spender         19.0  Regular customer   \n",
       "2  New customer    8.205882   Low spender         19.0  Regular customer   \n",
       "3  New customer    8.205882   Low spender         19.0  Regular customer   \n",
       "\n",
       "  _merge   region exclusion_flag  age_profile parent_status  \n",
       "0   both  Midwest             No  Middle Aged        Parent  \n",
       "1   both  Midwest             No  Middle Aged        Parent  \n",
       "2   both  Midwest             No  Middle Aged        Parent  \n",
       "3   both  Midwest             No  Middle Aged        Parent  "
      ]
     },
     "execution_count": 29,
     "metadata": {},
     "output_type": "execute_result"
    }
   ],
   "source": [
    "# check \n",
    "df_customer.head(4)"
   ]
  },
  {
   "cell_type": "markdown",
   "id": "fc78b8a7",
   "metadata": {},
   "source": [
    "# 03. Visualizations"
   ]
  },
  {
   "cell_type": "code",
   "execution_count": 7,
   "id": "1fd5ab1e",
   "metadata": {},
   "outputs": [],
   "source": [
    "# crossing order day of the week with loyalty flag\n",
    "crosstab = pd.crosstab(df_customer['loyalty_flag'], df_customer['orders_day_of_the_week'], dropna = False)"
   ]
  },
  {
   "cell_type": "code",
   "execution_count": 8,
   "id": "ddc7bfdf",
   "metadata": {},
   "outputs": [],
   "source": [
    "crosstab.to_clipboard()"
   ]
  },
  {
   "cell_type": "code",
   "execution_count": 11,
   "id": "5387c8ee",
   "metadata": {},
   "outputs": [],
   "source": [
    "# crossing loyalty flag with department_id\n",
    "crosstab_2 = pd.crosstab(df_customer['loyalty_flag'], df_customer['department_id'], dropna = False)"
   ]
  },
  {
   "cell_type": "code",
   "execution_count": 12,
   "id": "e797fffe",
   "metadata": {},
   "outputs": [],
   "source": [
    "crosstab_2.to_clipboard()"
   ]
  },
  {
   "cell_type": "code",
   "execution_count": 22,
   "id": "09643b63",
   "metadata": {},
   "outputs": [
    {
     "data": {
      "image/png": "[encoded data removed]",
      "text/plain": [
       "<Figure size 640x480 with 1 Axes>"
      ]
     },
     "metadata": {},
     "output_type": "display_data"
    }
   ],
   "source": [
    "# pie chart for age\n",
    "pie_chart_age = df_customer['age_profile'].value_counts().plot.pie(title = \"Age Profile\", label = '', autopct = ('%1.f%%'))"
   ]
  },
  {
   "cell_type": "code",
   "execution_count": 23,
   "id": "30775eed",
   "metadata": {},
   "outputs": [],
   "source": [
    "# export pie_chart_age\n",
    "pie_chart_age.figure.savefig(os.path.join(path, '04 Analysis', 'Visualizations', 'pie_chart_age.png'))"
   ]
  },
  {
   "cell_type": "code",
   "execution_count": 31,
   "id": "32c31467",
   "metadata": {},
   "outputs": [
    {
     "data": {
      "image/png": "[encoded data removed]",
      "text/plain": [
       "<Figure size 640x480 with 1 Axes>"
      ]
     },
     "metadata": {},
     "output_type": "display_data"
    }
   ],
   "source": [
    "# pie chart for parent and nonparent\n",
    "pie_chart_dependents = df_customer['parent_status'].value_counts().plot.pie(title = \"Parental Profile\", label = '', autopct = ('%1.f%%'))"
   ]
  },
  {
   "cell_type": "code",
   "execution_count": 32,
   "id": "e308c846",
   "metadata": {},
   "outputs": [],
   "source": [
    "# export pie_chart_dependents\n",
    "pie_chart_dependents.figure.savefig(os.path.join(path, '04 Analysis', 'Visualizations', 'pie_chart_dependents.png'))"
   ]
  },
  {
   "cell_type": "code",
   "execution_count": 33,
   "id": "376b97c6",
   "metadata": {},
   "outputs": [],
   "source": [
    "# crossing age profile with parental profile\n",
    "crosstab_3 = pd.crosstab(df_customer['age_profile'], df_customer['parent_status'], dropna = False)"
   ]
  },
  {
   "cell_type": "code",
   "execution_count": 34,
   "id": "38ef2084",
   "metadata": {},
   "outputs": [],
   "source": [
    "crosstab_3.to_clipboard()"
   ]
  },
  {
   "cell_type": "code",
   "execution_count": 82,
   "id": "57a90a15",
   "metadata": {},
   "outputs": [
    {
     "data": {
      "image/png": "[encoded data removed]",
      "text/plain": [
       "<Figure size 640x480 with 1 Axes>"
      ]
     },
     "metadata": {},
     "output_type": "display_data"
    }
   ],
   "source": [
    "# create pie chart for income\n",
    "pie_chart_income = df_customer['income_profile'].value_counts().plot.pie(title = \"Income Profile\", label = '', autopct = ('%1.f%%'))"
   ]
  },
  {
   "cell_type": "code",
   "execution_count": 84,
   "id": "a4b2e0ca",
   "metadata": {},
   "outputs": [],
   "source": [
    "# export pie_chart_income\n",
    "pie_chart_income.figure.savefig(os.path.join(path, '04 Analysis', 'Visualizations', 'pie_chart_income.png'))"
   ]
  },
  {
   "cell_type": "code",
   "execution_count": 83,
   "id": "426e906b",
   "metadata": {},
   "outputs": [
    {
     "data": {
      "image/png": "[encoded data removed]",
      "text/plain": [
       "<Figure size 640x480 with 1 Axes>"
      ]
     },
     "metadata": {},
     "output_type": "display_data"
    }
   ],
   "source": [
    "# create pie chart for goods\n",
    "pie_chart_goods = df_customer['goods_profile'].value_counts().plot.pie(title = \"Goods Profile\", label = '', autopct = ('%1.f%%'))"
   ]
  },
  {
   "cell_type": "code",
   "execution_count": 85,
   "id": "3eaf410a",
   "metadata": {},
   "outputs": [],
   "source": [
    "# export pie_chart_goods\n",
    "pie_chart_goods.figure.savefig(os.path.join(path, '04 Analysis', 'Visualizations', 'pie_chart_goods.png'))"
   ]
  },
  {
   "cell_type": "markdown",
   "id": "96c726e2",
   "metadata": {},
   "source": [
    "# 04. Aggregate Customer Profiles"
   ]
  },
  {
   "cell_type": "markdown",
   "id": "8da214e1",
   "metadata": {},
   "source": [
    "### Time Between Orders"
   ]
  },
  {
   "cell_type": "code",
   "execution_count": 87,
   "id": "be38fa16",
   "metadata": {},
   "outputs": [
    {
     "data": {
      "text/html": [
       "<div>\n",
       "<style scoped>\n",
       "    .dataframe tbody tr th:only-of-type {\n",
       "        vertical-align: middle;\n",
       "    }\n",
       "\n",
       "    .dataframe tbody tr th {\n",
       "        vertical-align: top;\n",
       "    }\n",
       "\n",
       "    .dataframe thead tr th {\n",
       "        text-align: left;\n",
       "    }\n",
       "\n",
       "    .dataframe thead tr:last-of-type th {\n",
       "        text-align: right;\n",
       "    }\n",
       "</style>\n",
       "<table border=\"1\" class=\"dataframe\">\n",
       "  <thead>\n",
       "    <tr>\n",
       "      <th></th>\n",
       "      <th colspan=\"3\" halign=\"left\">time_between_orders</th>\n",
       "    </tr>\n",
       "    <tr>\n",
       "      <th></th>\n",
       "      <th>mean</th>\n",
       "      <th>min</th>\n",
       "      <th>max</th>\n",
       "    </tr>\n",
       "    <tr>\n",
       "      <th>age_profile</th>\n",
       "      <th></th>\n",
       "      <th></th>\n",
       "      <th></th>\n",
       "    </tr>\n",
       "  </thead>\n",
       "  <tbody>\n",
       "    <tr>\n",
       "      <th>Adult</th>\n",
       "      <td>10.818211</td>\n",
       "      <td>0.0</td>\n",
       "      <td>30.0</td>\n",
       "    </tr>\n",
       "    <tr>\n",
       "      <th>Middle Aged</th>\n",
       "      <td>10.821972</td>\n",
       "      <td>0.0</td>\n",
       "      <td>30.0</td>\n",
       "    </tr>\n",
       "    <tr>\n",
       "      <th>Senior</th>\n",
       "      <td>10.791788</td>\n",
       "      <td>0.0</td>\n",
       "      <td>30.0</td>\n",
       "    </tr>\n",
       "    <tr>\n",
       "      <th>Young Adult</th>\n",
       "      <td>10.799071</td>\n",
       "      <td>0.0</td>\n",
       "      <td>30.0</td>\n",
       "    </tr>\n",
       "  </tbody>\n",
       "</table>\n",
       "</div>"
      ],
      "text/plain": [
       "            time_between_orders           \n",
       "                           mean  min   max\n",
       "age_profile                               \n",
       "Adult                 10.818211  0.0  30.0\n",
       "Middle Aged           10.821972  0.0  30.0\n",
       "Senior                10.791788  0.0  30.0\n",
       "Young Adult           10.799071  0.0  30.0"
      ]
     },
     "execution_count": 87,
     "metadata": {},
     "output_type": "execute_result"
    }
   ],
   "source": [
    "# aggregate for age and time between orders\n",
    "df_customer.groupby('age_profile').agg({'time_between_orders': ['mean', 'min', 'max']})"
   ]
  },
  {
   "cell_type": "code",
   "execution_count": 88,
   "id": "ffa24b91",
   "metadata": {},
   "outputs": [
    {
     "data": {
      "text/html": [
       "<div>\n",
       "<style scoped>\n",
       "    .dataframe tbody tr th:only-of-type {\n",
       "        vertical-align: middle;\n",
       "    }\n",
       "\n",
       "    .dataframe tbody tr th {\n",
       "        vertical-align: top;\n",
       "    }\n",
       "\n",
       "    .dataframe thead tr th {\n",
       "        text-align: left;\n",
       "    }\n",
       "\n",
       "    .dataframe thead tr:last-of-type th {\n",
       "        text-align: right;\n",
       "    }\n",
       "</style>\n",
       "<table border=\"1\" class=\"dataframe\">\n",
       "  <thead>\n",
       "    <tr>\n",
       "      <th></th>\n",
       "      <th colspan=\"3\" halign=\"left\">time_between_orders</th>\n",
       "    </tr>\n",
       "    <tr>\n",
       "      <th></th>\n",
       "      <th>mean</th>\n",
       "      <th>min</th>\n",
       "      <th>max</th>\n",
       "    </tr>\n",
       "    <tr>\n",
       "      <th>income_profile</th>\n",
       "      <th></th>\n",
       "      <th></th>\n",
       "      <th></th>\n",
       "    </tr>\n",
       "  </thead>\n",
       "  <tbody>\n",
       "    <tr>\n",
       "      <th>Lower</th>\n",
       "      <td>11.152223</td>\n",
       "      <td>0.0</td>\n",
       "      <td>30.0</td>\n",
       "    </tr>\n",
       "    <tr>\n",
       "      <th>Middle</th>\n",
       "      <td>10.775511</td>\n",
       "      <td>0.0</td>\n",
       "      <td>30.0</td>\n",
       "    </tr>\n",
       "    <tr>\n",
       "      <th>Upper</th>\n",
       "      <td>10.662901</td>\n",
       "      <td>0.0</td>\n",
       "      <td>30.0</td>\n",
       "    </tr>\n",
       "  </tbody>\n",
       "</table>\n",
       "</div>"
      ],
      "text/plain": [
       "               time_between_orders           \n",
       "                              mean  min   max\n",
       "income_profile                               \n",
       "Lower                    11.152223  0.0  30.0\n",
       "Middle                   10.775511  0.0  30.0\n",
       "Upper                    10.662901  0.0  30.0"
      ]
     },
     "execution_count": 88,
     "metadata": {},
     "output_type": "execute_result"
    }
   ],
   "source": [
    "# aggregate for income and time between orders\n",
    "df_customer.groupby('income_profile').agg({'time_between_orders': ['mean', 'min', 'max']})"
   ]
  },
  {
   "cell_type": "code",
   "execution_count": 89,
   "id": "fdb04dc8",
   "metadata": {},
   "outputs": [
    {
     "data": {
      "text/html": [
       "<div>\n",
       "<style scoped>\n",
       "    .dataframe tbody tr th:only-of-type {\n",
       "        vertical-align: middle;\n",
       "    }\n",
       "\n",
       "    .dataframe tbody tr th {\n",
       "        vertical-align: top;\n",
       "    }\n",
       "\n",
       "    .dataframe thead tr th {\n",
       "        text-align: left;\n",
       "    }\n",
       "\n",
       "    .dataframe thead tr:last-of-type th {\n",
       "        text-align: right;\n",
       "    }\n",
       "</style>\n",
       "<table border=\"1\" class=\"dataframe\">\n",
       "  <thead>\n",
       "    <tr>\n",
       "      <th></th>\n",
       "      <th colspan=\"3\" halign=\"left\">time_between_orders</th>\n",
       "    </tr>\n",
       "    <tr>\n",
       "      <th></th>\n",
       "      <th>mean</th>\n",
       "      <th>min</th>\n",
       "      <th>max</th>\n",
       "    </tr>\n",
       "    <tr>\n",
       "      <th>goods_profile</th>\n",
       "      <th></th>\n",
       "      <th></th>\n",
       "      <th></th>\n",
       "    </tr>\n",
       "  </thead>\n",
       "  <tbody>\n",
       "    <tr>\n",
       "      <th>Dry</th>\n",
       "      <td>10.964350</td>\n",
       "      <td>0.0</td>\n",
       "      <td>30.0</td>\n",
       "    </tr>\n",
       "    <tr>\n",
       "      <th>Fresh</th>\n",
       "      <td>10.680166</td>\n",
       "      <td>0.0</td>\n",
       "      <td>30.0</td>\n",
       "    </tr>\n",
       "    <tr>\n",
       "      <th>Household Supplies</th>\n",
       "      <td>11.012841</td>\n",
       "      <td>0.0</td>\n",
       "      <td>30.0</td>\n",
       "    </tr>\n",
       "  </tbody>\n",
       "</table>\n",
       "</div>"
      ],
      "text/plain": [
       "                   time_between_orders           \n",
       "                                  mean  min   max\n",
       "goods_profile                                    \n",
       "Dry                          10.964350  0.0  30.0\n",
       "Fresh                        10.680166  0.0  30.0\n",
       "Household Supplies           11.012841  0.0  30.0"
      ]
     },
     "execution_count": 89,
     "metadata": {},
     "output_type": "execute_result"
    }
   ],
   "source": [
    "# aggregate for goods and time between orders\n",
    "df_customer.groupby('goods_profile').agg({'time_between_orders': ['mean', 'min', 'max']})"
   ]
  },
  {
   "cell_type": "code",
   "execution_count": 90,
   "id": "86f68858",
   "metadata": {},
   "outputs": [
    {
     "data": {
      "text/html": [
       "<div>\n",
       "<style scoped>\n",
       "    .dataframe tbody tr th:only-of-type {\n",
       "        vertical-align: middle;\n",
       "    }\n",
       "\n",
       "    .dataframe tbody tr th {\n",
       "        vertical-align: top;\n",
       "    }\n",
       "\n",
       "    .dataframe thead tr th {\n",
       "        text-align: left;\n",
       "    }\n",
       "\n",
       "    .dataframe thead tr:last-of-type th {\n",
       "        text-align: right;\n",
       "    }\n",
       "</style>\n",
       "<table border=\"1\" class=\"dataframe\">\n",
       "  <thead>\n",
       "    <tr>\n",
       "      <th></th>\n",
       "      <th colspan=\"3\" halign=\"left\">time_between_orders</th>\n",
       "    </tr>\n",
       "    <tr>\n",
       "      <th></th>\n",
       "      <th>mean</th>\n",
       "      <th>min</th>\n",
       "      <th>max</th>\n",
       "    </tr>\n",
       "    <tr>\n",
       "      <th>parent_status</th>\n",
       "      <th></th>\n",
       "      <th></th>\n",
       "      <th></th>\n",
       "    </tr>\n",
       "  </thead>\n",
       "  <tbody>\n",
       "    <tr>\n",
       "      <th>Nonparent</th>\n",
       "      <td>10.791951</td>\n",
       "      <td>0.0</td>\n",
       "      <td>30.0</td>\n",
       "    </tr>\n",
       "    <tr>\n",
       "      <th>Parent</th>\n",
       "      <td>10.816416</td>\n",
       "      <td>0.0</td>\n",
       "      <td>30.0</td>\n",
       "    </tr>\n",
       "  </tbody>\n",
       "</table>\n",
       "</div>"
      ],
      "text/plain": [
       "              time_between_orders           \n",
       "                             mean  min   max\n",
       "parent_status                               \n",
       "Nonparent               10.791951  0.0  30.0\n",
       "Parent                  10.816416  0.0  30.0"
      ]
     },
     "execution_count": 90,
     "metadata": {},
     "output_type": "execute_result"
    }
   ],
   "source": [
    "# aggregate for parental status and time between orders\n",
    "df_customer.groupby('parent_status').agg({'time_between_orders': ['mean', 'min', 'max']})"
   ]
  },
  {
   "cell_type": "markdown",
   "id": "2fd688cf",
   "metadata": {},
   "source": [
    "### Expenditure"
   ]
  },
  {
   "cell_type": "code",
   "execution_count": 93,
   "id": "1887661e",
   "metadata": {},
   "outputs": [
    {
     "data": {
      "text/html": [
       "<div>\n",
       "<style scoped>\n",
       "    .dataframe tbody tr th:only-of-type {\n",
       "        vertical-align: middle;\n",
       "    }\n",
       "\n",
       "    .dataframe tbody tr th {\n",
       "        vertical-align: top;\n",
       "    }\n",
       "\n",
       "    .dataframe thead tr th {\n",
       "        text-align: left;\n",
       "    }\n",
       "\n",
       "    .dataframe thead tr:last-of-type th {\n",
       "        text-align: right;\n",
       "    }\n",
       "</style>\n",
       "<table border=\"1\" class=\"dataframe\">\n",
       "  <thead>\n",
       "    <tr>\n",
       "      <th></th>\n",
       "      <th colspan=\"3\" halign=\"left\">prices</th>\n",
       "    </tr>\n",
       "    <tr>\n",
       "      <th></th>\n",
       "      <th>mean</th>\n",
       "      <th>min</th>\n",
       "      <th>max</th>\n",
       "    </tr>\n",
       "    <tr>\n",
       "      <th>age_profile</th>\n",
       "      <th></th>\n",
       "      <th></th>\n",
       "      <th></th>\n",
       "    </tr>\n",
       "  </thead>\n",
       "  <tbody>\n",
       "    <tr>\n",
       "      <th>Adult</th>\n",
       "      <td>11.930948</td>\n",
       "      <td>1.0</td>\n",
       "      <td>99999.0</td>\n",
       "    </tr>\n",
       "    <tr>\n",
       "      <th>Middle Aged</th>\n",
       "      <td>11.978745</td>\n",
       "      <td>1.0</td>\n",
       "      <td>99999.0</td>\n",
       "    </tr>\n",
       "    <tr>\n",
       "      <th>Senior</th>\n",
       "      <td>11.729477</td>\n",
       "      <td>1.0</td>\n",
       "      <td>99999.0</td>\n",
       "    </tr>\n",
       "    <tr>\n",
       "      <th>Young Adult</th>\n",
       "      <td>12.211808</td>\n",
       "      <td>1.0</td>\n",
       "      <td>99999.0</td>\n",
       "    </tr>\n",
       "  </tbody>\n",
       "</table>\n",
       "</div>"
      ],
      "text/plain": [
       "                prices              \n",
       "                  mean  min      max\n",
       "age_profile                         \n",
       "Adult        11.930948  1.0  99999.0\n",
       "Middle Aged  11.978745  1.0  99999.0\n",
       "Senior       11.729477  1.0  99999.0\n",
       "Young Adult  12.211808  1.0  99999.0"
      ]
     },
     "execution_count": 93,
     "metadata": {},
     "output_type": "execute_result"
    }
   ],
   "source": [
    "# aggregate for age and expenditure\n",
    "df_customer.groupby('age_profile').agg({'prices': ['mean', 'min', 'max']})"
   ]
  },
  {
   "cell_type": "code",
   "execution_count": 99,
   "id": "97dee5ca",
   "metadata": {},
   "outputs": [
    {
     "data": {
      "text/plain": [
       "12.3    565528\n",
       "10.3    468677\n",
       "4.0     408398\n",
       "6.3     393164\n",
       "1.3     386059\n",
       "         ...  \n",
       "20.2       107\n",
       "22.7        88\n",
       "21.5        72\n",
       "18.3         9\n",
       "21.0         8\n",
       "Name: prices, Length: 242, dtype: int64"
      ]
     },
     "execution_count": 99,
     "metadata": {},
     "output_type": "execute_result"
    }
   ],
   "source": [
    "# check on max price\n",
    "df_customer['prices'].value_counts(dropna = False)"
   ]
  },
  {
   "cell_type": "code",
   "execution_count": 100,
   "id": "6d7f741f",
   "metadata": {},
   "outputs": [
    {
     "data": {
      "text/plain": [
       "count    2.930328e+07\n",
       "mean     1.193136e+01\n",
       "std      4.919193e+02\n",
       "min      1.000000e+00\n",
       "25%      4.200000e+00\n",
       "50%      7.400000e+00\n",
       "75%      1.130000e+01\n",
       "max      9.999900e+04\n",
       "Name: prices, dtype: float64"
      ]
     },
     "execution_count": 100,
     "metadata": {},
     "output_type": "execute_result"
    }
   ],
   "source": [
    "df_customer['prices'].describe()"
   ]
  },
  {
   "cell_type": "code",
   "execution_count": 101,
   "id": "34fec083",
   "metadata": {},
   "outputs": [
    {
     "data": {
      "image/png": "[encoded data removed]",
      "text/plain": [
       "<Figure size 640x480 with 1 Axes>"
      ]
     },
     "metadata": {},
     "output_type": "display_data"
    }
   ],
   "source": [
    "sns.boxplot(x = df_customer['prices'])\n",
    "plt.show()"
   ]
  },
  {
   "cell_type": "code",
   "execution_count": 102,
   "id": "45ec5bb1",
   "metadata": {},
   "outputs": [
    {
     "data": {
      "text/plain": [
       "11.3"
      ]
     },
     "execution_count": 102,
     "metadata": {},
     "output_type": "execute_result"
    }
   ],
   "source": [
    "df_customer['prices'].quantile(0.75)"
   ]
  },
  {
   "cell_type": "code",
   "execution_count": 103,
   "id": "8929e395",
   "metadata": {},
   "outputs": [],
   "source": [
    "# turn outliers into NaNs\n",
    "df_customer.loc[df_customer['prices'] >100, 'prices'] = np.nan"
   ]
  },
  {
   "cell_type": "code",
   "execution_count": 104,
   "id": "aa4c6f20",
   "metadata": {},
   "outputs": [
    {
     "data": {
      "text/plain": [
       "25.0"
      ]
     },
     "execution_count": 104,
     "metadata": {},
     "output_type": "execute_result"
    }
   ],
   "source": [
    "df_customer['prices'].max()"
   ]
  },
  {
   "cell_type": "code",
   "execution_count": 105,
   "id": "c5c322b4",
   "metadata": {},
   "outputs": [
    {
     "data": {
      "text/html": [
       "<div>\n",
       "<style scoped>\n",
       "    .dataframe tbody tr th:only-of-type {\n",
       "        vertical-align: middle;\n",
       "    }\n",
       "\n",
       "    .dataframe tbody tr th {\n",
       "        vertical-align: top;\n",
       "    }\n",
       "\n",
       "    .dataframe thead tr th {\n",
       "        text-align: left;\n",
       "    }\n",
       "\n",
       "    .dataframe thead tr:last-of-type th {\n",
       "        text-align: right;\n",
       "    }\n",
       "</style>\n",
       "<table border=\"1\" class=\"dataframe\">\n",
       "  <thead>\n",
       "    <tr>\n",
       "      <th></th>\n",
       "      <th colspan=\"3\" halign=\"left\">prices</th>\n",
       "    </tr>\n",
       "    <tr>\n",
       "      <th></th>\n",
       "      <th>mean</th>\n",
       "      <th>min</th>\n",
       "      <th>max</th>\n",
       "    </tr>\n",
       "    <tr>\n",
       "      <th>age_profile</th>\n",
       "      <th></th>\n",
       "      <th></th>\n",
       "      <th></th>\n",
       "    </tr>\n",
       "  </thead>\n",
       "  <tbody>\n",
       "    <tr>\n",
       "      <th>Adult</th>\n",
       "      <td>7.785345</td>\n",
       "      <td>1.0</td>\n",
       "      <td>25.0</td>\n",
       "    </tr>\n",
       "    <tr>\n",
       "      <th>Middle Aged</th>\n",
       "      <td>7.791685</td>\n",
       "      <td>1.0</td>\n",
       "      <td>25.0</td>\n",
       "    </tr>\n",
       "    <tr>\n",
       "      <th>Senior</th>\n",
       "      <td>7.797491</td>\n",
       "      <td>1.0</td>\n",
       "      <td>25.0</td>\n",
       "    </tr>\n",
       "    <tr>\n",
       "      <th>Young Adult</th>\n",
       "      <td>7.786502</td>\n",
       "      <td>1.0</td>\n",
       "      <td>25.0</td>\n",
       "    </tr>\n",
       "  </tbody>\n",
       "</table>\n",
       "</div>"
      ],
      "text/plain": [
       "               prices           \n",
       "                 mean  min   max\n",
       "age_profile                     \n",
       "Adult        7.785345  1.0  25.0\n",
       "Middle Aged  7.791685  1.0  25.0\n",
       "Senior       7.797491  1.0  25.0\n",
       "Young Adult  7.786502  1.0  25.0"
      ]
     },
     "execution_count": 105,
     "metadata": {},
     "output_type": "execute_result"
    }
   ],
   "source": [
    "# try this again\n",
    "# aggregate for age and expenditure\n",
    "df_customer.groupby('age_profile').agg({'prices': ['mean', 'min', 'max']})"
   ]
  },
  {
   "cell_type": "code",
   "execution_count": 106,
   "id": "1299815f",
   "metadata": {},
   "outputs": [
    {
     "data": {
      "text/html": [
       "<div>\n",
       "<style scoped>\n",
       "    .dataframe tbody tr th:only-of-type {\n",
       "        vertical-align: middle;\n",
       "    }\n",
       "\n",
       "    .dataframe tbody tr th {\n",
       "        vertical-align: top;\n",
       "    }\n",
       "\n",
       "    .dataframe thead tr th {\n",
       "        text-align: left;\n",
       "    }\n",
       "\n",
       "    .dataframe thead tr:last-of-type th {\n",
       "        text-align: right;\n",
       "    }\n",
       "</style>\n",
       "<table border=\"1\" class=\"dataframe\">\n",
       "  <thead>\n",
       "    <tr>\n",
       "      <th></th>\n",
       "      <th colspan=\"3\" halign=\"left\">prices</th>\n",
       "    </tr>\n",
       "    <tr>\n",
       "      <th></th>\n",
       "      <th>mean</th>\n",
       "      <th>min</th>\n",
       "      <th>max</th>\n",
       "    </tr>\n",
       "    <tr>\n",
       "      <th>income_profile</th>\n",
       "      <th></th>\n",
       "      <th></th>\n",
       "      <th></th>\n",
       "    </tr>\n",
       "  </thead>\n",
       "  <tbody>\n",
       "    <tr>\n",
       "      <th>Lower</th>\n",
       "      <td>6.766304</td>\n",
       "      <td>1.0</td>\n",
       "      <td>25.0</td>\n",
       "    </tr>\n",
       "    <tr>\n",
       "      <th>Middle</th>\n",
       "      <td>7.928496</td>\n",
       "      <td>1.0</td>\n",
       "      <td>25.0</td>\n",
       "    </tr>\n",
       "    <tr>\n",
       "      <th>Upper</th>\n",
       "      <td>7.936830</td>\n",
       "      <td>1.0</td>\n",
       "      <td>25.0</td>\n",
       "    </tr>\n",
       "  </tbody>\n",
       "</table>\n",
       "</div>"
      ],
      "text/plain": [
       "                  prices           \n",
       "                    mean  min   max\n",
       "income_profile                     \n",
       "Lower           6.766304  1.0  25.0\n",
       "Middle          7.928496  1.0  25.0\n",
       "Upper           7.936830  1.0  25.0"
      ]
     },
     "execution_count": 106,
     "metadata": {},
     "output_type": "execute_result"
    }
   ],
   "source": [
    "# aggregate for income and expenditure\n",
    "df_customer.groupby('income_profile').agg({'prices': ['mean', 'min', 'max']})"
   ]
  },
  {
   "cell_type": "code",
   "execution_count": 107,
   "id": "5e1c5b56",
   "metadata": {},
   "outputs": [
    {
     "data": {
      "text/html": [
       "<div>\n",
       "<style scoped>\n",
       "    .dataframe tbody tr th:only-of-type {\n",
       "        vertical-align: middle;\n",
       "    }\n",
       "\n",
       "    .dataframe tbody tr th {\n",
       "        vertical-align: top;\n",
       "    }\n",
       "\n",
       "    .dataframe thead tr th {\n",
       "        text-align: left;\n",
       "    }\n",
       "\n",
       "    .dataframe thead tr:last-of-type th {\n",
       "        text-align: right;\n",
       "    }\n",
       "</style>\n",
       "<table border=\"1\" class=\"dataframe\">\n",
       "  <thead>\n",
       "    <tr>\n",
       "      <th></th>\n",
       "      <th colspan=\"3\" halign=\"left\">prices</th>\n",
       "    </tr>\n",
       "    <tr>\n",
       "      <th></th>\n",
       "      <th>mean</th>\n",
       "      <th>min</th>\n",
       "      <th>max</th>\n",
       "    </tr>\n",
       "    <tr>\n",
       "      <th>goods_profile</th>\n",
       "      <th></th>\n",
       "      <th></th>\n",
       "      <th></th>\n",
       "    </tr>\n",
       "  </thead>\n",
       "  <tbody>\n",
       "    <tr>\n",
       "      <th>Dry</th>\n",
       "      <td>6.957688</td>\n",
       "      <td>1.0</td>\n",
       "      <td>20.0</td>\n",
       "    </tr>\n",
       "    <tr>\n",
       "      <th>Fresh</th>\n",
       "      <td>8.397991</td>\n",
       "      <td>1.0</td>\n",
       "      <td>25.0</td>\n",
       "    </tr>\n",
       "    <tr>\n",
       "      <th>Household Supplies</th>\n",
       "      <td>7.659296</td>\n",
       "      <td>1.0</td>\n",
       "      <td>15.0</td>\n",
       "    </tr>\n",
       "  </tbody>\n",
       "</table>\n",
       "</div>"
      ],
      "text/plain": [
       "                      prices           \n",
       "                        mean  min   max\n",
       "goods_profile                          \n",
       "Dry                 6.957688  1.0  20.0\n",
       "Fresh               8.397991  1.0  25.0\n",
       "Household Supplies  7.659296  1.0  15.0"
      ]
     },
     "execution_count": 107,
     "metadata": {},
     "output_type": "execute_result"
    }
   ],
   "source": [
    "# aggregate for goods and expenditure\n",
    "df_customer.groupby('goods_profile').agg({'prices': ['mean', 'min', 'max']})"
   ]
  },
  {
   "cell_type": "code",
   "execution_count": 108,
   "id": "bf11a8de",
   "metadata": {},
   "outputs": [
    {
     "data": {
      "text/html": [
       "<div>\n",
       "<style scoped>\n",
       "    .dataframe tbody tr th:only-of-type {\n",
       "        vertical-align: middle;\n",
       "    }\n",
       "\n",
       "    .dataframe tbody tr th {\n",
       "        vertical-align: top;\n",
       "    }\n",
       "\n",
       "    .dataframe thead tr th {\n",
       "        text-align: left;\n",
       "    }\n",
       "\n",
       "    .dataframe thead tr:last-of-type th {\n",
       "        text-align: right;\n",
       "    }\n",
       "</style>\n",
       "<table border=\"1\" class=\"dataframe\">\n",
       "  <thead>\n",
       "    <tr>\n",
       "      <th></th>\n",
       "      <th colspan=\"3\" halign=\"left\">prices</th>\n",
       "    </tr>\n",
       "    <tr>\n",
       "      <th></th>\n",
       "      <th>mean</th>\n",
       "      <th>min</th>\n",
       "      <th>max</th>\n",
       "    </tr>\n",
       "    <tr>\n",
       "      <th>parent_status</th>\n",
       "      <th></th>\n",
       "      <th></th>\n",
       "      <th></th>\n",
       "    </tr>\n",
       "  </thead>\n",
       "  <tbody>\n",
       "    <tr>\n",
       "      <th>Nonparent</th>\n",
       "      <td>7.790889</td>\n",
       "      <td>1.0</td>\n",
       "      <td>25.0</td>\n",
       "    </tr>\n",
       "    <tr>\n",
       "      <th>Parent</th>\n",
       "      <td>7.791279</td>\n",
       "      <td>1.0</td>\n",
       "      <td>25.0</td>\n",
       "    </tr>\n",
       "  </tbody>\n",
       "</table>\n",
       "</div>"
      ],
      "text/plain": [
       "                 prices           \n",
       "                   mean  min   max\n",
       "parent_status                     \n",
       "Nonparent      7.790889  1.0  25.0\n",
       "Parent         7.791279  1.0  25.0"
      ]
     },
     "execution_count": 108,
     "metadata": {},
     "output_type": "execute_result"
    }
   ],
   "source": [
    "# aggregate for parental status and expenditure\n",
    "df_customer.groupby('parent_status').agg({'prices': ['mean', 'min', 'max']})"
   ]
  },
  {
   "cell_type": "markdown",
   "id": "0b4ad0fe",
   "metadata": {},
   "source": [
    "# 04. Compare Customer Profiles with Regions and Departments"
   ]
  },
  {
   "cell_type": "markdown",
   "id": "202eda4c",
   "metadata": {},
   "source": [
    "### Age"
   ]
  },
  {
   "cell_type": "code",
   "execution_count": 117,
   "id": "b3377058",
   "metadata": {},
   "outputs": [],
   "source": [
    "# crossing regions with age\n",
    "crosstab_4 = pd.crosstab(df_customer['age_profile'], df_customer['region'], dropna = False) "
   ]
  },
  {
   "cell_type": "code",
   "execution_count": 118,
   "id": "57b682fb",
   "metadata": {},
   "outputs": [],
   "source": [
    "crosstab_4.to_clipboard()"
   ]
  },
  {
   "cell_type": "code",
   "execution_count": 111,
   "id": "ae80115b",
   "metadata": {},
   "outputs": [],
   "source": [
    "# crossing age with departments\n",
    "crosstab_5 = pd.crosstab(df_customer['age_profile'], df_customer['goods_profile'], dropna = False) "
   ]
  },
  {
   "cell_type": "code",
   "execution_count": 113,
   "id": "db985d22",
   "metadata": {},
   "outputs": [],
   "source": [
    "crosstab_5.to_clipboard()"
   ]
  },
  {
   "cell_type": "code",
   "execution_count": 116,
   "id": "ac16c6ce",
   "metadata": {},
   "outputs": [],
   "source": [
    "# crossing age with department_id\n",
    "crosstab_6 = pd.crosstab(df_customer['age_profile'], df_customer['department_id'], dropna = False) "
   ]
  },
  {
   "cell_type": "code",
   "execution_count": 115,
   "id": "d45ed753",
   "metadata": {},
   "outputs": [],
   "source": [
    "crosstab_6.to_clipboard()"
   ]
  },
  {
   "cell_type": "markdown",
   "id": "d7344645",
   "metadata": {},
   "source": [
    "### Income"
   ]
  },
  {
   "cell_type": "code",
   "execution_count": 119,
   "id": "001ff974",
   "metadata": {},
   "outputs": [],
   "source": [
    "# crossing income with region\n",
    "crosstab_7 = pd.crosstab(df_customer['income_profile'], df_customer['region'], dropna = False) "
   ]
  },
  {
   "cell_type": "code",
   "execution_count": 120,
   "id": "839cc02b",
   "metadata": {},
   "outputs": [],
   "source": [
    "crosstab_7.to_clipboard()"
   ]
  },
  {
   "cell_type": "code",
   "execution_count": 122,
   "id": "4c3029f1",
   "metadata": {},
   "outputs": [],
   "source": [
    "# crossing income with goods profile\n",
    "crosstab_8 = pd.crosstab(df_customer['income_profile'], df_customer['goods_profile'], dropna = False) "
   ]
  },
  {
   "cell_type": "code",
   "execution_count": 123,
   "id": "6fe7392e",
   "metadata": {},
   "outputs": [],
   "source": [
    "crosstab_8.to_clipboard()"
   ]
  },
  {
   "cell_type": "markdown",
   "id": "56f394de",
   "metadata": {},
   "source": [
    "### Goods"
   ]
  },
  {
   "cell_type": "code",
   "execution_count": 124,
   "id": "c8fb44f1",
   "metadata": {},
   "outputs": [],
   "source": [
    "# crossing goods profile with region\n",
    "crosstab_9 = pd.crosstab(df_customer['goods_profile'], df_customer['region'], dropna = False) "
   ]
  },
  {
   "cell_type": "code",
   "execution_count": 125,
   "id": "2b39f086",
   "metadata": {},
   "outputs": [],
   "source": [
    "crosstab_9.to_clipboard()"
   ]
  },
  {
   "cell_type": "markdown",
   "id": "031ab28d",
   "metadata": {},
   "source": [
    "### Number of Dependents"
   ]
  },
  {
   "cell_type": "code",
   "execution_count": 126,
   "id": "9a3db860",
   "metadata": {},
   "outputs": [],
   "source": [
    "# crossing parent_status with region\n",
    "crosstab_10 = pd.crosstab(df_customer['parent_status'], df_customer['region'], dropna = False) "
   ]
  },
  {
   "cell_type": "code",
   "execution_count": 127,
   "id": "577cd9fc",
   "metadata": {},
   "outputs": [],
   "source": [
    "crosstab_10.to_clipboard()"
   ]
  },
  {
   "cell_type": "code",
   "execution_count": 128,
   "id": "8ce1e3be",
   "metadata": {},
   "outputs": [],
   "source": [
    "# crossing parent_status with goods profile\n",
    "crosstab_11 = pd.crosstab(df_customer['parent_status'], df_customer['goods_profile'], dropna = False) "
   ]
  },
  {
   "cell_type": "code",
   "execution_count": 129,
   "id": "cde70e62",
   "metadata": {},
   "outputs": [],
   "source": [
    "crosstab_11.to_clipboard()"
   ]
  },
  {
   "cell_type": "markdown",
   "id": "ae0adb69",
   "metadata": {},
   "source": [
    "### Observations: Across all profiles, the South has the highest frequency for each profile of age, income, departments and parental status. We can see here that there is a strong customer base in the South across all different types of people. The lowest frequency across all types of customers comes from the Northeast."
   ]
  },
  {
   "cell_type": "markdown",
   "id": "34386e00",
   "metadata": {},
   "source": [
    "### The fresh food department (bakery, produce, meat/seafood, dairy/eggs, deli) is the highest across all customer types with a significantly low number of people buying household supplies. Also, there is a bigger difference between upper and lower class individuals on the dry vs. the fresh food department with upper class individuals buying less items from the dry department."
   ]
  },
  {
   "cell_type": "markdown",
   "id": "233b4e0a",
   "metadata": {},
   "source": [
    "# 06. Export Final Dataset"
   ]
  },
  {
   "cell_type": "code",
   "execution_count": 130,
   "id": "c10ae992",
   "metadata": {},
   "outputs": [],
   "source": [
    "# export to pickle file\n",
    "df_customer.to_pickle(os.path.join(path, '02 Data', 'Prepared Data', 'final_dataset.pkl'))"
   ]
  }
 ],
 "metadata": {
  "kernelspec": {
   "display_name": "Python 3 (ipykernel)",
   "language": "python",
   "name": "python3"
  },
  "language_info": {
   "codemirror_mode": {
    "name": "ipython",
    "version": 3
   },
   "file_extension": ".py",
   "mimetype": "text/x-python",
   "name": "python",
   "nbconvert_exporter": "python",
   "pygments_lexer": "ipython3",
   "version": "3.10.9"
  }
 },
 "nbformat": 4,
 "nbformat_minor": 5
}
